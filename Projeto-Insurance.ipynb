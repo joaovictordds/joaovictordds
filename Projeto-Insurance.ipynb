{
  "nbformat": 4,
  "nbformat_minor": 0,
  "metadata": {
    "language_info": {
      "codemirror_mode": {
        "name": "ipython",
        "version": 3
      },
      "file_extension": ".py",
      "mimetype": "text/x-python",
      "name": "python",
      "nbconvert_exporter": "python",
      "pygments_lexer": "ipython3",
      "version": "3.9.5"
    },
    "orig_nbformat": 2,
    "kernelspec": {
      "name": "python395jvsc74a57bd00c2bd3f98af5aac689406899aacf0c484041ed528a319f1c6e918a64c0e15801",
      "display_name": "Python 3.9.5 64-bit"
    },
    "metadata": {
      "interpreter": {
        "hash": "0c2bd3f98af5aac689406899aacf0c484041ed528a319f1c6e918a64c0e15801"
      }
    },
    "colab": {
      "name": "Projeto-Insurance",
      "provenance": [],
      "collapsed_sections": [
        "QDDMvZ670sbo",
        "TfSN4dDS1M-9",
        "LeZ9ITXv0IEK",
        "qxNbzSWNXFH-",
        "kWdlYPEr0IEM",
        "K0qCf6Fw28Uy",
        "jlCSChoW4hWg",
        "KnqkXMx-m3j-",
        "KezzrFsv5XqF",
        "PRYRJjt1wAbO",
        "jPjCEUWVw2Hl",
        "3MIUJsuVw8p8",
        "-AswfLOkIRvw"
      ],
      "include_colab_link": true
    }
  },
  "cells": [
    {
      "cell_type": "markdown",
      "metadata": {
        "id": "view-in-github",
        "colab_type": "text"
      },
      "source": [
        "<a href=\"https://colab.research.google.com/github/joaovictordds/joaovictordds/blob/main/Projeto-Insurance.ipynb\" target=\"_parent\"><img src=\"https://colab.research.google.com/assets/colab-badge.svg\" alt=\"Open In Colab\"/></a>"
      ]
    },
    {
      "cell_type": "markdown",
      "metadata": {
        "id": "raBn5H3E0bVp"
      },
      "source": [
        "**Técnicas de Machine Learning para estimar preços do plano de saúde**"
      ]
    },
    {
      "cell_type": "markdown",
      "metadata": {
        "id": "QDDMvZ670sbo"
      },
      "source": [
        "## Regressão Linear"
      ]
    },
    {
      "cell_type": "markdown",
      "metadata": {
        "id": "TfSN4dDS1M-9"
      },
      "source": [
        "### Importando dados e bibliotecas de análise e manipulação de dados"
      ]
    },
    {
      "cell_type": "code",
      "metadata": {
        "id": "ySiy-mru0IEE"
      },
      "source": [
        "import pandas as pd\n",
        "import numpy as np\n",
        "import warnings # don't show warnings\n",
        "warnings.filterwarnings(\"ignore\")\n",
        "\n",
        "caminho = 'https://raw.githubusercontent.com/gitflai/DDS4/main/insurance.csv'\n",
        "dados = pd.read_csv(caminho)"
      ],
      "execution_count": 1,
      "outputs": []
    },
    {
      "cell_type": "code",
      "metadata": {
        "id": "zZLTHl-Q0IEI",
        "colab": {
          "base_uri": "https://localhost:8080/"
        },
        "outputId": "25ca472c-8396-4438-a65a-47c699ea9197"
      },
      "source": [
        "dados.info()"
      ],
      "execution_count": 2,
      "outputs": [
        {
          "output_type": "stream",
          "text": [
            "<class 'pandas.core.frame.DataFrame'>\n",
            "RangeIndex: 1338 entries, 0 to 1337\n",
            "Data columns (total 7 columns):\n",
            " #   Column    Non-Null Count  Dtype  \n",
            "---  ------    --------------  -----  \n",
            " 0   age       1338 non-null   int64  \n",
            " 1   sex       1338 non-null   object \n",
            " 2   bmi       1338 non-null   float64\n",
            " 3   children  1338 non-null   int64  \n",
            " 4   smoker    1338 non-null   object \n",
            " 5   region    1338 non-null   object \n",
            " 6   charges   1338 non-null   float64\n",
            "dtypes: float64(2), int64(2), object(3)\n",
            "memory usage: 73.3+ KB\n"
          ],
          "name": "stdout"
        }
      ]
    },
    {
      "cell_type": "code",
      "metadata": {
        "id": "rgiQS-LQ0IEK",
        "colab": {
          "base_uri": "https://localhost:8080/",
          "height": 0
        },
        "outputId": "6c8b61dd-6acf-40c3-954d-eceabd5f4fc3"
      },
      "source": [
        "dados.describe()"
      ],
      "execution_count": 3,
      "outputs": [
        {
          "output_type": "execute_result",
          "data": {
            "text/html": [
              "<div>\n",
              "<style scoped>\n",
              "    .dataframe tbody tr th:only-of-type {\n",
              "        vertical-align: middle;\n",
              "    }\n",
              "\n",
              "    .dataframe tbody tr th {\n",
              "        vertical-align: top;\n",
              "    }\n",
              "\n",
              "    .dataframe thead th {\n",
              "        text-align: right;\n",
              "    }\n",
              "</style>\n",
              "<table border=\"1\" class=\"dataframe\">\n",
              "  <thead>\n",
              "    <tr style=\"text-align: right;\">\n",
              "      <th></th>\n",
              "      <th>age</th>\n",
              "      <th>bmi</th>\n",
              "      <th>children</th>\n",
              "      <th>charges</th>\n",
              "    </tr>\n",
              "  </thead>\n",
              "  <tbody>\n",
              "    <tr>\n",
              "      <th>count</th>\n",
              "      <td>1338.000000</td>\n",
              "      <td>1338.000000</td>\n",
              "      <td>1338.000000</td>\n",
              "      <td>1338.000000</td>\n",
              "    </tr>\n",
              "    <tr>\n",
              "      <th>mean</th>\n",
              "      <td>39.207025</td>\n",
              "      <td>30.663397</td>\n",
              "      <td>1.094918</td>\n",
              "      <td>13270.422265</td>\n",
              "    </tr>\n",
              "    <tr>\n",
              "      <th>std</th>\n",
              "      <td>14.049960</td>\n",
              "      <td>6.098187</td>\n",
              "      <td>1.205493</td>\n",
              "      <td>12110.011237</td>\n",
              "    </tr>\n",
              "    <tr>\n",
              "      <th>min</th>\n",
              "      <td>18.000000</td>\n",
              "      <td>15.960000</td>\n",
              "      <td>0.000000</td>\n",
              "      <td>1121.873900</td>\n",
              "    </tr>\n",
              "    <tr>\n",
              "      <th>25%</th>\n",
              "      <td>27.000000</td>\n",
              "      <td>26.296250</td>\n",
              "      <td>0.000000</td>\n",
              "      <td>4740.287150</td>\n",
              "    </tr>\n",
              "    <tr>\n",
              "      <th>50%</th>\n",
              "      <td>39.000000</td>\n",
              "      <td>30.400000</td>\n",
              "      <td>1.000000</td>\n",
              "      <td>9382.033000</td>\n",
              "    </tr>\n",
              "    <tr>\n",
              "      <th>75%</th>\n",
              "      <td>51.000000</td>\n",
              "      <td>34.693750</td>\n",
              "      <td>2.000000</td>\n",
              "      <td>16639.912515</td>\n",
              "    </tr>\n",
              "    <tr>\n",
              "      <th>max</th>\n",
              "      <td>64.000000</td>\n",
              "      <td>53.130000</td>\n",
              "      <td>5.000000</td>\n",
              "      <td>63770.428010</td>\n",
              "    </tr>\n",
              "  </tbody>\n",
              "</table>\n",
              "</div>"
            ],
            "text/plain": [
              "               age          bmi     children       charges\n",
              "count  1338.000000  1338.000000  1338.000000   1338.000000\n",
              "mean     39.207025    30.663397     1.094918  13270.422265\n",
              "std      14.049960     6.098187     1.205493  12110.011237\n",
              "min      18.000000    15.960000     0.000000   1121.873900\n",
              "25%      27.000000    26.296250     0.000000   4740.287150\n",
              "50%      39.000000    30.400000     1.000000   9382.033000\n",
              "75%      51.000000    34.693750     2.000000  16639.912515\n",
              "max      64.000000    53.130000     5.000000  63770.428010"
            ]
          },
          "metadata": {
            "tags": []
          },
          "execution_count": 3
        }
      ]
    },
    {
      "cell_type": "markdown",
      "metadata": {
        "id": "LeZ9ITXv0IEK"
      },
      "source": [
        "### Análise Exploratória dos Dados"
      ]
    },
    {
      "cell_type": "code",
      "metadata": {
        "colab": {
          "base_uri": "https://localhost:8080/",
          "height": 82
        },
        "id": "G-PlDhOYXMUE",
        "outputId": "78a54f4f-f8ae-44c1-e8c4-cef34db27d1e"
      },
      "source": [
        "# Análise do custo x sexo\n",
        "dados[['sex','charges']].groupby(['sex'], as_index=False).mean().sort_values(by='charges',ascending=False).style.background_gradient('Blues')"
      ],
      "execution_count": null,
      "outputs": [
        {
          "output_type": "execute_result",
          "data": {
            "text/html": [
              "<style  type=\"text/css\" >\n",
              "#T_5fdc3f32_c55e_11eb_8869_0242ac1c0002row0_col1{\n",
              "            background-color:  #08306b;\n",
              "            color:  #f1f1f1;\n",
              "        }#T_5fdc3f32_c55e_11eb_8869_0242ac1c0002row1_col1{\n",
              "            background-color:  #f7fbff;\n",
              "            color:  #000000;\n",
              "        }</style><table id=\"T_5fdc3f32_c55e_11eb_8869_0242ac1c0002\" ><thead>    <tr>        <th class=\"blank level0\" ></th>        <th class=\"col_heading level0 col0\" >sex</th>        <th class=\"col_heading level0 col1\" >charges</th>    </tr></thead><tbody>\n",
              "                <tr>\n",
              "                        <th id=\"T_5fdc3f32_c55e_11eb_8869_0242ac1c0002level0_row0\" class=\"row_heading level0 row0\" >1</th>\n",
              "                        <td id=\"T_5fdc3f32_c55e_11eb_8869_0242ac1c0002row0_col0\" class=\"data row0 col0\" >male</td>\n",
              "                        <td id=\"T_5fdc3f32_c55e_11eb_8869_0242ac1c0002row0_col1\" class=\"data row0 col1\" >13956.751178</td>\n",
              "            </tr>\n",
              "            <tr>\n",
              "                        <th id=\"T_5fdc3f32_c55e_11eb_8869_0242ac1c0002level0_row1\" class=\"row_heading level0 row1\" >0</th>\n",
              "                        <td id=\"T_5fdc3f32_c55e_11eb_8869_0242ac1c0002row1_col0\" class=\"data row1 col0\" >female</td>\n",
              "                        <td id=\"T_5fdc3f32_c55e_11eb_8869_0242ac1c0002row1_col1\" class=\"data row1 col1\" >12569.578844</td>\n",
              "            </tr>\n",
              "    </tbody></table>"
            ],
            "text/plain": [
              "<pandas.io.formats.style.Styler at 0x7faff8ee7fd0>"
            ]
          },
          "metadata": {
            "tags": []
          },
          "execution_count": 197
        }
      ]
    },
    {
      "cell_type": "markdown",
      "metadata": {
        "id": "8DghwZ8MYKbl"
      },
      "source": [
        "Homens pagam mais do que mulheres, porém a diferença não é significativa."
      ]
    },
    {
      "cell_type": "code",
      "metadata": {
        "colab": {
          "base_uri": "https://localhost:8080/",
          "height": 166
        },
        "id": "uf0uYPYDXMMs",
        "outputId": "02839f27-fb06-43be-b1f5-ad5d9a46ee5b"
      },
      "source": [
        "# Análise do custo x nº filhos\n",
        "dados[['children','charges']].groupby(['children'], as_index=False).mean().sort_values(by='charges',ascending=False).style.background_gradient('Blues')"
      ],
      "execution_count": null,
      "outputs": [
        {
          "output_type": "execute_result",
          "data": {
            "text/html": [
              "<style  type=\"text/css\" >\n",
              "#T_5fe0a414_c55e_11eb_8869_0242ac1c0002row0_col0,#T_5fe0a414_c55e_11eb_8869_0242ac1c0002row3_col1{\n",
              "            background-color:  #4a98c9;\n",
              "            color:  #000000;\n",
              "        }#T_5fe0a414_c55e_11eb_8869_0242ac1c0002row0_col1,#T_5fe0a414_c55e_11eb_8869_0242ac1c0002row5_col0{\n",
              "            background-color:  #08306b;\n",
              "            color:  #f1f1f1;\n",
              "        }#T_5fe0a414_c55e_11eb_8869_0242ac1c0002row1_col0{\n",
              "            background-color:  #94c4df;\n",
              "            color:  #000000;\n",
              "        }#T_5fe0a414_c55e_11eb_8869_0242ac1c0002row1_col1{\n",
              "            background-color:  #083a7a;\n",
              "            color:  #f1f1f1;\n",
              "        }#T_5fe0a414_c55e_11eb_8869_0242ac1c0002row2_col0{\n",
              "            background-color:  #1764ab;\n",
              "            color:  #f1f1f1;\n",
              "        }#T_5fe0a414_c55e_11eb_8869_0242ac1c0002row2_col1{\n",
              "            background-color:  #1c6bb0;\n",
              "            color:  #f1f1f1;\n",
              "        }#T_5fe0a414_c55e_11eb_8869_0242ac1c0002row3_col0{\n",
              "            background-color:  #d0e1f2;\n",
              "            color:  #000000;\n",
              "        }#T_5fe0a414_c55e_11eb_8869_0242ac1c0002row4_col0,#T_5fe0a414_c55e_11eb_8869_0242ac1c0002row5_col1{\n",
              "            background-color:  #f7fbff;\n",
              "            color:  #000000;\n",
              "        }#T_5fe0a414_c55e_11eb_8869_0242ac1c0002row4_col1{\n",
              "            background-color:  #5ca4d0;\n",
              "            color:  #000000;\n",
              "        }</style><table id=\"T_5fe0a414_c55e_11eb_8869_0242ac1c0002\" ><thead>    <tr>        <th class=\"blank level0\" ></th>        <th class=\"col_heading level0 col0\" >children</th>        <th class=\"col_heading level0 col1\" >charges</th>    </tr></thead><tbody>\n",
              "                <tr>\n",
              "                        <th id=\"T_5fe0a414_c55e_11eb_8869_0242ac1c0002level0_row0\" class=\"row_heading level0 row0\" >3</th>\n",
              "                        <td id=\"T_5fe0a414_c55e_11eb_8869_0242ac1c0002row0_col0\" class=\"data row0 col0\" >3</td>\n",
              "                        <td id=\"T_5fe0a414_c55e_11eb_8869_0242ac1c0002row0_col1\" class=\"data row0 col1\" >15355.318367</td>\n",
              "            </tr>\n",
              "            <tr>\n",
              "                        <th id=\"T_5fe0a414_c55e_11eb_8869_0242ac1c0002level0_row1\" class=\"row_heading level0 row1\" >2</th>\n",
              "                        <td id=\"T_5fe0a414_c55e_11eb_8869_0242ac1c0002row1_col0\" class=\"data row1 col0\" >2</td>\n",
              "                        <td id=\"T_5fe0a414_c55e_11eb_8869_0242ac1c0002row1_col1\" class=\"data row1 col1\" >15073.563734</td>\n",
              "            </tr>\n",
              "            <tr>\n",
              "                        <th id=\"T_5fe0a414_c55e_11eb_8869_0242ac1c0002level0_row2\" class=\"row_heading level0 row2\" >4</th>\n",
              "                        <td id=\"T_5fe0a414_c55e_11eb_8869_0242ac1c0002row2_col0\" class=\"data row2 col0\" >4</td>\n",
              "                        <td id=\"T_5fe0a414_c55e_11eb_8869_0242ac1c0002row2_col1\" class=\"data row2 col1\" >13850.656311</td>\n",
              "            </tr>\n",
              "            <tr>\n",
              "                        <th id=\"T_5fe0a414_c55e_11eb_8869_0242ac1c0002level0_row3\" class=\"row_heading level0 row3\" >1</th>\n",
              "                        <td id=\"T_5fe0a414_c55e_11eb_8869_0242ac1c0002row3_col0\" class=\"data row3 col0\" >1</td>\n",
              "                        <td id=\"T_5fe0a414_c55e_11eb_8869_0242ac1c0002row3_col1\" class=\"data row3 col1\" >12731.171832</td>\n",
              "            </tr>\n",
              "            <tr>\n",
              "                        <th id=\"T_5fe0a414_c55e_11eb_8869_0242ac1c0002level0_row4\" class=\"row_heading level0 row4\" >0</th>\n",
              "                        <td id=\"T_5fe0a414_c55e_11eb_8869_0242ac1c0002row4_col0\" class=\"data row4 col0\" >0</td>\n",
              "                        <td id=\"T_5fe0a414_c55e_11eb_8869_0242ac1c0002row4_col1\" class=\"data row4 col1\" >12365.975602</td>\n",
              "            </tr>\n",
              "            <tr>\n",
              "                        <th id=\"T_5fe0a414_c55e_11eb_8869_0242ac1c0002level0_row5\" class=\"row_heading level0 row5\" >5</th>\n",
              "                        <td id=\"T_5fe0a414_c55e_11eb_8869_0242ac1c0002row5_col0\" class=\"data row5 col0\" >5</td>\n",
              "                        <td id=\"T_5fe0a414_c55e_11eb_8869_0242ac1c0002row5_col1\" class=\"data row5 col1\" >8786.035247</td>\n",
              "            </tr>\n",
              "    </tbody></table>"
            ],
            "text/plain": [
              "<pandas.io.formats.style.Styler at 0x7faff8f54fd0>"
            ]
          },
          "metadata": {
            "tags": []
          },
          "execution_count": 198
        }
      ]
    },
    {
      "cell_type": "markdown",
      "metadata": {
        "id": "dqCJ6g8sZE3-"
      },
      "source": [
        "Pessoas com 5 filhos pagam bem menos."
      ]
    },
    {
      "cell_type": "code",
      "metadata": {
        "colab": {
          "base_uri": "https://localhost:8080/",
          "height": 82
        },
        "id": "i9Plo9S-XL5s",
        "outputId": "458ad925-5dc5-4057-f8d7-ddaed6fac599"
      },
      "source": [
        "# Análise de custo x fumantes\n",
        "dados[['charges','smoker']].groupby(['smoker'], as_index=False).mean().sort_values(by='charges', ascending=False).style.background_gradient('Blues')"
      ],
      "execution_count": null,
      "outputs": [
        {
          "output_type": "execute_result",
          "data": {
            "text/html": [
              "<style  type=\"text/css\" >\n",
              "#T_5fe4b0f4_c55e_11eb_8869_0242ac1c0002row0_col1{\n",
              "            background-color:  #08306b;\n",
              "            color:  #f1f1f1;\n",
              "        }#T_5fe4b0f4_c55e_11eb_8869_0242ac1c0002row1_col1{\n",
              "            background-color:  #f7fbff;\n",
              "            color:  #000000;\n",
              "        }</style><table id=\"T_5fe4b0f4_c55e_11eb_8869_0242ac1c0002\" ><thead>    <tr>        <th class=\"blank level0\" ></th>        <th class=\"col_heading level0 col0\" >smoker</th>        <th class=\"col_heading level0 col1\" >charges</th>    </tr></thead><tbody>\n",
              "                <tr>\n",
              "                        <th id=\"T_5fe4b0f4_c55e_11eb_8869_0242ac1c0002level0_row0\" class=\"row_heading level0 row0\" >1</th>\n",
              "                        <td id=\"T_5fe4b0f4_c55e_11eb_8869_0242ac1c0002row0_col0\" class=\"data row0 col0\" >yes</td>\n",
              "                        <td id=\"T_5fe4b0f4_c55e_11eb_8869_0242ac1c0002row0_col1\" class=\"data row0 col1\" >32050.231832</td>\n",
              "            </tr>\n",
              "            <tr>\n",
              "                        <th id=\"T_5fe4b0f4_c55e_11eb_8869_0242ac1c0002level0_row1\" class=\"row_heading level0 row1\" >0</th>\n",
              "                        <td id=\"T_5fe4b0f4_c55e_11eb_8869_0242ac1c0002row1_col0\" class=\"data row1 col0\" >no</td>\n",
              "                        <td id=\"T_5fe4b0f4_c55e_11eb_8869_0242ac1c0002row1_col1\" class=\"data row1 col1\" >8434.268298</td>\n",
              "            </tr>\n",
              "    </tbody></table>"
            ],
            "text/plain": [
              "<pandas.io.formats.style.Styler at 0x7faff8fd6750>"
            ]
          },
          "metadata": {
            "tags": []
          },
          "execution_count": 199
        }
      ]
    },
    {
      "cell_type": "markdown",
      "metadata": {
        "id": "Vr9qp8t6ZLmd"
      },
      "source": [
        "A diferença dos clientes que fumam para os que não fumam é grande e esta variável causará grande influência no modelo."
      ]
    },
    {
      "cell_type": "markdown",
      "metadata": {
        "id": "I2JsCDY3ZKwl"
      },
      "source": [
        "Outras informações do dataset:"
      ]
    },
    {
      "cell_type": "code",
      "metadata": {
        "colab": {
          "base_uri": "https://localhost:8080/",
          "height": 82
        },
        "id": "iB0kYe5xZLHt",
        "outputId": "2307d1cf-916d-4177-e6c9-d60bd811f596"
      },
      "source": [
        "sexo = dados.groupby('sex', as_index=False)['age',\"bmi\",\"children\",\"charges\"].mean().sort_values('age', ascending=False).style.background_gradient('Blues')\n",
        "sexo"
      ],
      "execution_count": null,
      "outputs": [
        {
          "output_type": "execute_result",
          "data": {
            "text/html": [
              "<style  type=\"text/css\" >\n",
              "#T_5fe980ca_c55e_11eb_8869_0242ac1c0002row0_col1,#T_5fe980ca_c55e_11eb_8869_0242ac1c0002row1_col2,#T_5fe980ca_c55e_11eb_8869_0242ac1c0002row1_col3,#T_5fe980ca_c55e_11eb_8869_0242ac1c0002row1_col4{\n",
              "            background-color:  #08306b;\n",
              "            color:  #f1f1f1;\n",
              "        }#T_5fe980ca_c55e_11eb_8869_0242ac1c0002row0_col2,#T_5fe980ca_c55e_11eb_8869_0242ac1c0002row0_col3,#T_5fe980ca_c55e_11eb_8869_0242ac1c0002row0_col4,#T_5fe980ca_c55e_11eb_8869_0242ac1c0002row1_col1{\n",
              "            background-color:  #f7fbff;\n",
              "            color:  #000000;\n",
              "        }</style><table id=\"T_5fe980ca_c55e_11eb_8869_0242ac1c0002\" ><thead>    <tr>        <th class=\"blank level0\" ></th>        <th class=\"col_heading level0 col0\" >sex</th>        <th class=\"col_heading level0 col1\" >age</th>        <th class=\"col_heading level0 col2\" >bmi</th>        <th class=\"col_heading level0 col3\" >children</th>        <th class=\"col_heading level0 col4\" >charges</th>    </tr></thead><tbody>\n",
              "                <tr>\n",
              "                        <th id=\"T_5fe980ca_c55e_11eb_8869_0242ac1c0002level0_row0\" class=\"row_heading level0 row0\" >0</th>\n",
              "                        <td id=\"T_5fe980ca_c55e_11eb_8869_0242ac1c0002row0_col0\" class=\"data row0 col0\" >female</td>\n",
              "                        <td id=\"T_5fe980ca_c55e_11eb_8869_0242ac1c0002row0_col1\" class=\"data row0 col1\" >39.503021</td>\n",
              "                        <td id=\"T_5fe980ca_c55e_11eb_8869_0242ac1c0002row0_col2\" class=\"data row0 col2\" >30.377749</td>\n",
              "                        <td id=\"T_5fe980ca_c55e_11eb_8869_0242ac1c0002row0_col3\" class=\"data row0 col3\" >1.074018</td>\n",
              "                        <td id=\"T_5fe980ca_c55e_11eb_8869_0242ac1c0002row0_col4\" class=\"data row0 col4\" >12569.578844</td>\n",
              "            </tr>\n",
              "            <tr>\n",
              "                        <th id=\"T_5fe980ca_c55e_11eb_8869_0242ac1c0002level0_row1\" class=\"row_heading level0 row1\" >1</th>\n",
              "                        <td id=\"T_5fe980ca_c55e_11eb_8869_0242ac1c0002row1_col0\" class=\"data row1 col0\" >male</td>\n",
              "                        <td id=\"T_5fe980ca_c55e_11eb_8869_0242ac1c0002row1_col1\" class=\"data row1 col1\" >38.917160</td>\n",
              "                        <td id=\"T_5fe980ca_c55e_11eb_8869_0242ac1c0002row1_col2\" class=\"data row1 col2\" >30.943129</td>\n",
              "                        <td id=\"T_5fe980ca_c55e_11eb_8869_0242ac1c0002row1_col3\" class=\"data row1 col3\" >1.115385</td>\n",
              "                        <td id=\"T_5fe980ca_c55e_11eb_8869_0242ac1c0002row1_col4\" class=\"data row1 col4\" >13956.751178</td>\n",
              "            </tr>\n",
              "    </tbody></table>"
            ],
            "text/plain": [
              "<pandas.io.formats.style.Styler at 0x7faff8ede850>"
            ]
          },
          "metadata": {
            "tags": []
          },
          "execution_count": 200
        }
      ]
    },
    {
      "cell_type": "code",
      "metadata": {
        "colab": {
          "base_uri": "https://localhost:8080/",
          "height": 166
        },
        "id": "V2lqvoi8dP5C",
        "outputId": "b19750f5-d610-43ff-e08f-70a946620082"
      },
      "source": [
        "criancas = dados.groupby('children', as_index=False)['age','bmi','charges'].mean().sort_values('age', ascending=False).style.background_gradient('Blues')\n",
        "criancas"
      ],
      "execution_count": null,
      "outputs": [
        {
          "output_type": "execute_result",
          "data": {
            "text/html": [
              "<style  type=\"text/css\" >\n",
              "#T_5fef3c90_c55e_11eb_8869_0242ac1c0002row0_col0,#T_5fef3c90_c55e_11eb_8869_0242ac1c0002row1_col3{\n",
              "            background-color:  #4a98c9;\n",
              "            color:  #000000;\n",
              "        }#T_5fef3c90_c55e_11eb_8869_0242ac1c0002row0_col1,#T_5fef3c90_c55e_11eb_8869_0242ac1c0002row0_col3,#T_5fef3c90_c55e_11eb_8869_0242ac1c0002row3_col2,#T_5fef3c90_c55e_11eb_8869_0242ac1c0002row5_col0{\n",
              "            background-color:  #08306b;\n",
              "            color:  #f1f1f1;\n",
              "        }#T_5fef3c90_c55e_11eb_8869_0242ac1c0002row0_col2{\n",
              "            background-color:  #4997c9;\n",
              "            color:  #000000;\n",
              "        }#T_5fef3c90_c55e_11eb_8869_0242ac1c0002row1_col0{\n",
              "            background-color:  #d0e1f2;\n",
              "            color:  #000000;\n",
              "        }#T_5fef3c90_c55e_11eb_8869_0242ac1c0002row1_col1{\n",
              "            background-color:  #3c8cc3;\n",
              "            color:  #000000;\n",
              "        }#T_5fef3c90_c55e_11eb_8869_0242ac1c0002row1_col2,#T_5fef3c90_c55e_11eb_8869_0242ac1c0002row3_col1{\n",
              "            background-color:  #549fcd;\n",
              "            color:  #000000;\n",
              "        }#T_5fef3c90_c55e_11eb_8869_0242ac1c0002row2_col0{\n",
              "            background-color:  #94c4df;\n",
              "            color:  #000000;\n",
              "        }#T_5fef3c90_c55e_11eb_8869_0242ac1c0002row2_col1{\n",
              "            background-color:  #3d8dc4;\n",
              "            color:  #000000;\n",
              "        }#T_5fef3c90_c55e_11eb_8869_0242ac1c0002row2_col2{\n",
              "            background-color:  #1d6cb1;\n",
              "            color:  #f1f1f1;\n",
              "        }#T_5fef3c90_c55e_11eb_8869_0242ac1c0002row2_col3{\n",
              "            background-color:  #083a7a;\n",
              "            color:  #f1f1f1;\n",
              "        }#T_5fef3c90_c55e_11eb_8869_0242ac1c0002row3_col0{\n",
              "            background-color:  #1764ab;\n",
              "            color:  #f1f1f1;\n",
              "        }#T_5fef3c90_c55e_11eb_8869_0242ac1c0002row3_col3{\n",
              "            background-color:  #1c6bb0;\n",
              "            color:  #f1f1f1;\n",
              "        }#T_5fef3c90_c55e_11eb_8869_0242ac1c0002row4_col0,#T_5fef3c90_c55e_11eb_8869_0242ac1c0002row5_col1,#T_5fef3c90_c55e_11eb_8869_0242ac1c0002row5_col2,#T_5fef3c90_c55e_11eb_8869_0242ac1c0002row5_col3{\n",
              "            background-color:  #f7fbff;\n",
              "            color:  #000000;\n",
              "        }#T_5fef3c90_c55e_11eb_8869_0242ac1c0002row4_col1{\n",
              "            background-color:  #75b4d8;\n",
              "            color:  #000000;\n",
              "        }#T_5fef3c90_c55e_11eb_8869_0242ac1c0002row4_col2{\n",
              "            background-color:  #61a7d2;\n",
              "            color:  #000000;\n",
              "        }#T_5fef3c90_c55e_11eb_8869_0242ac1c0002row4_col3{\n",
              "            background-color:  #5ca4d0;\n",
              "            color:  #000000;\n",
              "        }</style><table id=\"T_5fef3c90_c55e_11eb_8869_0242ac1c0002\" ><thead>    <tr>        <th class=\"blank level0\" ></th>        <th class=\"col_heading level0 col0\" >children</th>        <th class=\"col_heading level0 col1\" >age</th>        <th class=\"col_heading level0 col2\" >bmi</th>        <th class=\"col_heading level0 col3\" >charges</th>    </tr></thead><tbody>\n",
              "                <tr>\n",
              "                        <th id=\"T_5fef3c90_c55e_11eb_8869_0242ac1c0002level0_row0\" class=\"row_heading level0 row0\" >3</th>\n",
              "                        <td id=\"T_5fef3c90_c55e_11eb_8869_0242ac1c0002row0_col0\" class=\"data row0 col0\" >3</td>\n",
              "                        <td id=\"T_5fef3c90_c55e_11eb_8869_0242ac1c0002row0_col1\" class=\"data row0 col1\" >41.566879</td>\n",
              "                        <td id=\"T_5fef3c90_c55e_11eb_8869_0242ac1c0002row0_col2\" class=\"data row0 col2\" >30.684331</td>\n",
              "                        <td id=\"T_5fef3c90_c55e_11eb_8869_0242ac1c0002row0_col3\" class=\"data row0 col3\" >15355.318367</td>\n",
              "            </tr>\n",
              "            <tr>\n",
              "                        <th id=\"T_5fef3c90_c55e_11eb_8869_0242ac1c0002level0_row1\" class=\"row_heading level0 row1\" >1</th>\n",
              "                        <td id=\"T_5fef3c90_c55e_11eb_8869_0242ac1c0002row1_col0\" class=\"data row1 col0\" >1</td>\n",
              "                        <td id=\"T_5fef3c90_c55e_11eb_8869_0242ac1c0002row1_col1\" class=\"data row1 col1\" >39.453704</td>\n",
              "                        <td id=\"T_5fef3c90_c55e_11eb_8869_0242ac1c0002row1_col2\" class=\"data row1 col2\" >30.623148</td>\n",
              "                        <td id=\"T_5fef3c90_c55e_11eb_8869_0242ac1c0002row1_col3\" class=\"data row1 col3\" >12731.171832</td>\n",
              "            </tr>\n",
              "            <tr>\n",
              "                        <th id=\"T_5fef3c90_c55e_11eb_8869_0242ac1c0002level0_row2\" class=\"row_heading level0 row2\" >2</th>\n",
              "                        <td id=\"T_5fef3c90_c55e_11eb_8869_0242ac1c0002row2_col0\" class=\"data row2 col0\" >2</td>\n",
              "                        <td id=\"T_5fef3c90_c55e_11eb_8869_0242ac1c0002row2_col1\" class=\"data row2 col1\" >39.445833</td>\n",
              "                        <td id=\"T_5fef3c90_c55e_11eb_8869_0242ac1c0002row2_col2\" class=\"data row2 col2\" >30.978104</td>\n",
              "                        <td id=\"T_5fef3c90_c55e_11eb_8869_0242ac1c0002row2_col3\" class=\"data row2 col3\" >15073.563734</td>\n",
              "            </tr>\n",
              "            <tr>\n",
              "                        <th id=\"T_5fef3c90_c55e_11eb_8869_0242ac1c0002level0_row3\" class=\"row_heading level0 row3\" >4</th>\n",
              "                        <td id=\"T_5fef3c90_c55e_11eb_8869_0242ac1c0002row3_col0\" class=\"data row3 col0\" >4</td>\n",
              "                        <td id=\"T_5fef3c90_c55e_11eb_8869_0242ac1c0002row3_col1\" class=\"data row3 col1\" >39.000000</td>\n",
              "                        <td id=\"T_5fef3c90_c55e_11eb_8869_0242ac1c0002row3_col2\" class=\"data row3 col2\" >31.391200</td>\n",
              "                        <td id=\"T_5fef3c90_c55e_11eb_8869_0242ac1c0002row3_col3\" class=\"data row3 col3\" >13850.656311</td>\n",
              "            </tr>\n",
              "            <tr>\n",
              "                        <th id=\"T_5fef3c90_c55e_11eb_8869_0242ac1c0002level0_row4\" class=\"row_heading level0 row4\" >0</th>\n",
              "                        <td id=\"T_5fef3c90_c55e_11eb_8869_0242ac1c0002row4_col0\" class=\"data row4 col0\" >0</td>\n",
              "                        <td id=\"T_5fef3c90_c55e_11eb_8869_0242ac1c0002row4_col1\" class=\"data row4 col1\" >38.444251</td>\n",
              "                        <td id=\"T_5fef3c90_c55e_11eb_8869_0242ac1c0002row4_col2\" class=\"data row4 col2\" >30.550296</td>\n",
              "                        <td id=\"T_5fef3c90_c55e_11eb_8869_0242ac1c0002row4_col3\" class=\"data row4 col3\" >12365.975602</td>\n",
              "            </tr>\n",
              "            <tr>\n",
              "                        <th id=\"T_5fef3c90_c55e_11eb_8869_0242ac1c0002level0_row5\" class=\"row_heading level0 row5\" >5</th>\n",
              "                        <td id=\"T_5fef3c90_c55e_11eb_8869_0242ac1c0002row5_col0\" class=\"data row5 col0\" >5</td>\n",
              "                        <td id=\"T_5fef3c90_c55e_11eb_8869_0242ac1c0002row5_col1\" class=\"data row5 col1\" >35.611111</td>\n",
              "                        <td id=\"T_5fef3c90_c55e_11eb_8869_0242ac1c0002row5_col2\" class=\"data row5 col2\" >29.605000</td>\n",
              "                        <td id=\"T_5fef3c90_c55e_11eb_8869_0242ac1c0002row5_col3\" class=\"data row5 col3\" >8786.035247</td>\n",
              "            </tr>\n",
              "    </tbody></table>"
            ],
            "text/plain": [
              "<pandas.io.formats.style.Styler at 0x7faff8efc810>"
            ]
          },
          "metadata": {
            "tags": []
          },
          "execution_count": 201
        }
      ]
    },
    {
      "cell_type": "markdown",
      "metadata": {
        "id": "qxNbzSWNXFH-"
      },
      "source": [
        "#### Análise com a biblioteca sweetviz"
      ]
    },
    {
      "cell_type": "code",
      "metadata": {
        "id": "G98bsnxz1jTV"
      },
      "source": [
        "# Instalação da biblioteca sweetviz para uma visualização inicial das informações\n",
        "#!pip install sweetviz"
      ],
      "execution_count": null,
      "outputs": []
    },
    {
      "cell_type": "code",
      "metadata": {
        "id": "w1KtbTSn0IEL"
      },
      "source": [
        "import sweetviz as sv\n",
        "eda = sv.analyze(source=dados, target_feat='charges')\n",
        "eda.show_notebook()"
      ],
      "execution_count": null,
      "outputs": []
    },
    {
      "cell_type": "code",
      "metadata": {
        "id": "DCH7QQmW0IEL"
      },
      "source": [
        "# Comparando variaveis com relação ao sexo\n",
        "eda2 = sv.compare_intra(source_df=dados, condition_series=dados['sex']== 'male', names=['Masculino','Feminino'], target_feat='smoker')\n",
        "eda2.show_notebook()"
      ],
      "execution_count": null,
      "outputs": []
    },
    {
      "cell_type": "markdown",
      "metadata": {
        "id": "kWdlYPEr0IEM"
      },
      "source": [
        "### Preparando o conjunto de Dados para Modelagem"
      ]
    },
    {
      "cell_type": "code",
      "metadata": {
        "id": "xInvb_800IEM",
        "colab": {
          "base_uri": "https://localhost:8080/",
          "height": 0
        },
        "outputId": "44ac9faa-59fb-4b8d-c6f3-7d2907cd6734"
      },
      "source": [
        "dados['sex'] = dados['sex'].map({'female': 1, 'male': 0})  # transforma a variavel binaria categórica em numérica\n",
        "dados['smoker'] = dados['smoker'].map({'yes': 1, 'no': 0}) # transforma a variável binária categórica em numérica\n",
        "#dados = pd.get_dummies(dados, columns=['sex','smoker']) # transforma as variáveis selecionadas em dummies\n",
        "dados['charges'] = dados['charges'] / 1000 ## reduzindo o intervalo de variabilidade da variavel 'charges' pois tem valores de seguro de até US$60k\n",
        "dados = dados[['age', 'bmi', 'charges',\t'sex',\t'smoker']] # Selecionando apenas as variáveis que serão utilizadas\n",
        "dados.sample(3) # Uma amostra das informações restantes que serão utilizadas"
      ],
      "execution_count": 4,
      "outputs": [
        {
          "output_type": "execute_result",
          "data": {
            "text/html": [
              "<div>\n",
              "<style scoped>\n",
              "    .dataframe tbody tr th:only-of-type {\n",
              "        vertical-align: middle;\n",
              "    }\n",
              "\n",
              "    .dataframe tbody tr th {\n",
              "        vertical-align: top;\n",
              "    }\n",
              "\n",
              "    .dataframe thead th {\n",
              "        text-align: right;\n",
              "    }\n",
              "</style>\n",
              "<table border=\"1\" class=\"dataframe\">\n",
              "  <thead>\n",
              "    <tr style=\"text-align: right;\">\n",
              "      <th></th>\n",
              "      <th>age</th>\n",
              "      <th>bmi</th>\n",
              "      <th>charges</th>\n",
              "      <th>sex</th>\n",
              "      <th>smoker</th>\n",
              "    </tr>\n",
              "  </thead>\n",
              "  <tbody>\n",
              "    <tr>\n",
              "      <th>157</th>\n",
              "      <td>18</td>\n",
              "      <td>25.175</td>\n",
              "      <td>15.518180</td>\n",
              "      <td>0</td>\n",
              "      <td>1</td>\n",
              "    </tr>\n",
              "    <tr>\n",
              "      <th>133</th>\n",
              "      <td>19</td>\n",
              "      <td>25.555</td>\n",
              "      <td>1.632564</td>\n",
              "      <td>0</td>\n",
              "      <td>0</td>\n",
              "    </tr>\n",
              "    <tr>\n",
              "      <th>93</th>\n",
              "      <td>35</td>\n",
              "      <td>34.770</td>\n",
              "      <td>5.729005</td>\n",
              "      <td>0</td>\n",
              "      <td>0</td>\n",
              "    </tr>\n",
              "  </tbody>\n",
              "</table>\n",
              "</div>"
            ],
            "text/plain": [
              "     age     bmi    charges  sex  smoker\n",
              "157   18  25.175  15.518180    0       1\n",
              "133   19  25.555   1.632564    0       0\n",
              "93    35  34.770   5.729005    0       0"
            ]
          },
          "metadata": {
            "tags": []
          },
          "execution_count": 4
        }
      ]
    },
    {
      "cell_type": "code",
      "metadata": {
        "id": "8KXW9kgm0IEN",
        "colab": {
          "base_uri": "https://localhost:8080/",
          "height": 0
        },
        "outputId": "005c51fd-147c-454e-d8f4-2c15077d7c96"
      },
      "source": [
        "import seaborn as sns # Biblioteca que plota gráficos\n",
        "sns.scatterplot(data=dados, x='bmi', y='charges',hue='smoker'); \n",
        "# No eixo X o IMC, eixo Y o valor do plano (/1000) e as cores diferenciam os fumantes dos não fumantes."
      ],
      "execution_count": 5,
      "outputs": [
        {
          "output_type": "display_data",
          "data": {
            "image/png": "[encoded data removed]",
            "text/plain": [
              "<Figure size 432x288 with 1 Axes>"
            ]
          },
          "metadata": {
            "tags": [],
            "needs_background": "light"
          }
        }
      ]
    },
    {
      "cell_type": "markdown",
      "metadata": {
        "id": "K0qCf6Fw28Uy"
      },
      "source": [
        "### Modelo de Regressão Linear"
      ]
    },
    {
      "cell_type": "markdown",
      "metadata": {
        "id": "6lkSJ1K-3P75"
      },
      "source": [
        "O primeiro modelo selecionado para este conjunto de dados e para a resposta que o cliente precisa (**quanto cobrar do cliente**) é o modelo de regressão linear."
      ]
    },
    {
      "cell_type": "code",
      "metadata": {
        "id": "IHe0c-q10IEO",
        "colab": {
          "base_uri": "https://localhost:8080/"
        },
        "outputId": "d40ac179-981a-4b58-ef3b-c172d81a47c0"
      },
      "source": [
        "from sklearn.linear_model import LinearRegression # Estou baixando a biblioteca do modelo de regressão linear para aplicar.\n",
        "\n",
        "x = dados[['bmi', 'smoker','age']] # IMC, fumante e idade são as variáveis que utilizaremos para este modelo.\n",
        "y = dados[['charges']]             # Variável alvo (Y): custo.\n",
        "\n",
        "model_rli = LinearRegression()     # aqui está o modelo de regressão linear\n",
        "model_rli.fit(x, y)                # modelo atuando em todos os dados (não foi separado em teste e treino ainda)"
      ],
      "execution_count": 6,
      "outputs": [
        {
          "output_type": "execute_result",
          "data": {
            "text/plain": [
              "LinearRegression(copy_X=True, fit_intercept=True, n_jobs=None, normalize=False)"
            ]
          },
          "metadata": {
            "tags": []
          },
          "execution_count": 6
        }
      ]
    },
    {
      "cell_type": "markdown",
      "metadata": {
        "id": "9-1kDqn8363g"
      },
      "source": [
        "O modelo está pronto, abaixo, pode testar com valores aleatórios para saber quanto cobrar de acordo com três informações do futuro cliente: IMC, Idade e se é fumante."
      ]
    },
    {
      "cell_type": "code",
      "metadata": {
        "id": "S7ngFSh60IEO",
        "colab": {
          "base_uri": "https://localhost:8080/"
        },
        "outputId": "2d924f67-b6f4-4a06-80c9-d0b5645241d6"
      },
      "source": [
        "# Preencher cliente novo:\n",
        "\n",
        "IMC = 33          # Indice de massa corpórea\n",
        "Fumante = 1       # 1 - SIM 0 - NAO\n",
        "Idade = 30        \n",
        "cobrar = model_rli.predict([[IMC,Fumante,Idade]]) \n",
        "print('De acordo com o modelo, o valor anual a cobrar deste cliente é de US$ {:.2f}'.format(np.mean(cobrar*1000)))"
      ],
      "execution_count": 7,
      "outputs": [
        {
          "output_type": "stream",
          "text": [
            "De acordo com o modelo, o valor anual a cobrar deste cliente é de US$ 30579.58\n"
          ],
          "name": "stdout"
        }
      ]
    },
    {
      "cell_type": "markdown",
      "metadata": {
        "id": "jlCSChoW4hWg"
      },
      "source": [
        "### Métrica EQM para validação do modelo e Holdout"
      ]
    },
    {
      "cell_type": "markdown",
      "metadata": {
        "id": "SageDTcr4l6n"
      },
      "source": [
        "**Root Mean Squared Error (RMSE) ou Erro Quadrático Médio (EQM)** é uma excelente métrica para modelos de regressão, além de ser muito fácil de interpretar. A Raiz Quadrada do Erro Quadrático Médio — ou simplesmente RMSE em inglês — nada mais é que a diferença entre o valor que foi previsto pelo seu modelo e o valor real que foi observado.\n",
        "\n",
        "Por exemplo, imagine que você está construindo um modelo para prever preço de casas. Esse modelo deveria ter previsto o valor de 100 mil para um exemplo no seu conjunto, mas ele previu 99 mil: esse -R$ 1 mil de diferença é o erro do seu modelo.\n",
        "\n",
        "Agora é só repetir esse processo para todo seu conjunto de treino ou teste, elevar o erro ao quadrado, tirar a média de todos os valores do conjunto e, por fim, calcular a raiz quadrada.\n",
        "\n",
        "fonte: (https://paulovasconcellos.com.br/)"
      ]
    },
    {
      "cell_type": "markdown",
      "metadata": {
        "id": "iSInrerC5GGG"
      },
      "source": [
        "**Método HOLDOUT:** consiste em dividir o conjunto total de dados em dois subconjuntos mutuamente exclusivos, um para treinamento (estimação dos parâmetros) e outro para teste (validação). O conjunto de dados pode ser separado em quantidades iguais ou não."
      ]
    },
    {
      "cell_type": "code",
      "metadata": {
        "id": "8Pz9gYL_0IEP",
        "colab": {
          "base_uri": "https://localhost:8080/"
        },
        "outputId": "afe94171-fbb8-4c5e-84b3-2bf9a727883e"
      },
      "source": [
        "from sklearn.model_selection import train_test_split\n",
        "from sklearn.metrics import mean_squared_error\n",
        "#from sklearn.preprocessing import StandardScaler\n",
        "\n",
        "# Separe os dados em teste e treinamento \n",
        "Xtreino, Xteste, ytreino, yteste = train_test_split(x, y, test_size = 0.25)\n",
        "\n",
        "# Normalizando as variáveis X\n",
        "#scaler = StandardScaler()\n",
        "#Xtreino = scaler.fit_transform(Xtreino)\n",
        "#Xteste = scaler.fit_transform(Xteste) \n",
        "\n",
        "# Ajuste do modelo nos dados de TREINO\n",
        "regressao = LinearRegression()\n",
        "regressao.fit(Xtreino, ytreino)\n",
        "\n",
        "# Utilize o modelo ajustado para predizer os dados de TESTE\n",
        "preditos = regressao.predict(Xteste) \n",
        "\n",
        "# Calcule o Erro Quadrático Médio nos dados de TESTE \n",
        "eqm = mean_squared_error(yteste, preditos)\n",
        "print('EQM da Regressão Linear : {}'.format(round(eqm, 2)))"
      ],
      "execution_count": 8,
      "outputs": [
        {
          "output_type": "stream",
          "text": [
            "EQM da Regressão Linear : 39.19\n"
          ],
          "name": "stdout"
        }
      ]
    },
    {
      "cell_type": "markdown",
      "metadata": {
        "id": "QgGr__RA5ORl"
      },
      "source": [
        "Abaixo, repetições da técnica Holdout, de maneira a variar os dados que ficam no conjunto de treino e teste. Guardando os resultados do EQM para cada repetição e, no final, calculando a média para obter uma valor mais estável para o EQM."
      ]
    },
    {
      "cell_type": "code",
      "metadata": {
        "id": "FEVOZr0F0IEQ",
        "colab": {
          "base_uri": "https://localhost:8080/"
        },
        "outputId": "d0797523-44c3-4469-be06-bc999c8e5b15"
      },
      "source": [
        "# Média do valor mais estável para o EQM\n",
        "\n",
        "R = 100   # Quantidade de vezes que vai rodar\n",
        "eqms = []\n",
        "\n",
        "x = dados[['bmi', 'smoker','age']]\n",
        "y = dados['charges'] \n",
        "\n",
        "for i in range(R):\n",
        "    Xtreino, Xteste, ytreino, yteste  = train_test_split(x, y, test_size = 0.25)\n",
        "    #scaler = StandardScaler()\n",
        "    #Xtreino = scaler.fit_transform(Xtreino)\n",
        "    #Xteste = scaler.fit_transform(Xteste) \n",
        "    reg = LinearRegression()\n",
        "    reg.fit(Xtreino, ytreino)\n",
        "    preditos = reg.predict(Xteste)\n",
        "    eqm = mean_squared_error(yteste, preditos)\n",
        "    eqms.append(eqm)\n",
        "\n",
        "print('Media dos EQM da Regressão Linear : {}'.format(round(np.mean(eqms),2)))"
      ],
      "execution_count": 9,
      "outputs": [
        {
          "output_type": "stream",
          "text": [
            "Media dos EQM da Regressão Linear : 37.45\n"
          ],
          "name": "stdout"
        }
      ]
    },
    {
      "cell_type": "markdown",
      "metadata": {
        "id": "AJ7pG7lq6F-0"
      },
      "source": [
        "Resultado final da saída do teste:"
      ]
    },
    {
      "cell_type": "code",
      "metadata": {
        "colab": {
          "base_uri": "https://localhost:8080/",
          "height": 173
        },
        "id": "nTKHce6FUB6K",
        "outputId": "3f0f08b4-5a4d-4601-ed54-f78ed9232eff"
      },
      "source": [
        "comparativo = pd.DataFrame({'Atual': yteste, 'Preditos': preditos})*1000\n",
        "comparativo.sample(4)"
      ],
      "execution_count": 10,
      "outputs": [
        {
          "output_type": "execute_result",
          "data": {
            "text/html": [
              "<div>\n",
              "<style scoped>\n",
              "    .dataframe tbody tr th:only-of-type {\n",
              "        vertical-align: middle;\n",
              "    }\n",
              "\n",
              "    .dataframe tbody tr th {\n",
              "        vertical-align: top;\n",
              "    }\n",
              "\n",
              "    .dataframe thead th {\n",
              "        text-align: right;\n",
              "    }\n",
              "</style>\n",
              "<table border=\"1\" class=\"dataframe\">\n",
              "  <thead>\n",
              "    <tr style=\"text-align: right;\">\n",
              "      <th></th>\n",
              "      <th>Atual</th>\n",
              "      <th>Preditos</th>\n",
              "    </tr>\n",
              "  </thead>\n",
              "  <tbody>\n",
              "    <tr>\n",
              "      <th>98</th>\n",
              "      <td>22412.6485</td>\n",
              "      <td>33060.084907</td>\n",
              "    </tr>\n",
              "    <tr>\n",
              "      <th>715</th>\n",
              "      <td>12146.9710</td>\n",
              "      <td>13451.842141</td>\n",
              "    </tr>\n",
              "    <tr>\n",
              "      <th>946</th>\n",
              "      <td>7160.0940</td>\n",
              "      <td>10747.102164</td>\n",
              "    </tr>\n",
              "    <tr>\n",
              "      <th>1333</th>\n",
              "      <td>10600.5483</td>\n",
              "      <td>11409.784297</td>\n",
              "    </tr>\n",
              "  </tbody>\n",
              "</table>\n",
              "</div>"
            ],
            "text/plain": [
              "           Atual      Preditos\n",
              "98    22412.6485  33060.084907\n",
              "715   12146.9710  13451.842141\n",
              "946    7160.0940  10747.102164\n",
              "1333  10600.5483  11409.784297"
            ]
          },
          "metadata": {
            "tags": []
          },
          "execution_count": 10
        }
      ]
    },
    {
      "cell_type": "code",
      "metadata": {
        "id": "H5e0Thmp58p9",
        "colab": {
          "base_uri": "https://localhost:8080/",
          "height": 265
        },
        "outputId": "50a8c3ac-2b64-4a03-eb41-2120704e5455"
      },
      "source": [
        "import matplotlib.pyplot as plt\n",
        "\n",
        "plt.hist(eqms, edgecolor = 'black')\n",
        "plt.show()"
      ],
      "execution_count": 11,
      "outputs": [
        {
          "output_type": "display_data",
          "data": {
            "image/png": "[encoded data removed]",
            "text/plain": [
              "<Figure size 432x288 with 1 Axes>"
            ]
          },
          "metadata": {
            "tags": [],
            "needs_background": "light"
          }
        }
      ]
    },
    {
      "cell_type": "markdown",
      "metadata": {
        "id": "KnqkXMx-m3j-"
      },
      "source": [
        "### Métrica R²"
      ]
    },
    {
      "cell_type": "markdown",
      "metadata": {
        "id": "yN8bnbTigmeD"
      },
      "source": [
        "O coeficiente de determinação, também chamado de R², é uma medida de ajuste de um modelo estatístico linear generalizado, como a regressão linear simples ou múltipla, aos valores observados de uma variável aleatória. O R² varia entre 0 e 1, por vezes sendo expresso em termos percentuais."
      ]
    },
    {
      "cell_type": "code",
      "metadata": {
        "colab": {
          "base_uri": "https://localhost:8080/"
        },
        "id": "wAHlJSCbNxDe",
        "outputId": "1cbeef19-d8ee-4485-e772-c07e225a475d"
      },
      "source": [
        "from sklearn.metrics import r2_score\n",
        "score = r2_score(yteste,preditos)\n",
        "print('O modelo consegue explicar em {:.2f}% o resultado obtido.'.format(score*100))"
      ],
      "execution_count": 12,
      "outputs": [
        {
          "output_type": "stream",
          "text": [
            "O modelo consegue explicar em 75.88% o resultado obtido.\n"
          ],
          "name": "stdout"
        }
      ]
    },
    {
      "cell_type": "markdown",
      "metadata": {
        "id": "KezzrFsv5XqF"
      },
      "source": [
        "## Árvores de Decisão"
      ]
    },
    {
      "cell_type": "markdown",
      "metadata": {
        "id": "Lhq9OWnM5zQc"
      },
      "source": [
        "Modelagem da árvore de decisão e na saída as métricas do EQM e R²:"
      ]
    },
    {
      "cell_type": "code",
      "metadata": {
        "id": "b6L0toiX5uO6",
        "colab": {
          "base_uri": "https://localhost:8080/"
        },
        "outputId": "cb5b870a-613a-4c40-cc2f-2f432d6979ef"
      },
      "source": [
        "from sklearn.tree import DecisionTreeRegressor\n",
        "\n",
        "profundidade = 4\n",
        "\n",
        "R = 100\n",
        "eqms_treino = []\n",
        "eqms_teste = []\n",
        "\n",
        "X = dados[['bmi','smoker','age']]\n",
        "y = dados['charges']\n",
        "\n",
        "for i in range(R):\n",
        "  Xtreino, Xteste, ytreino, yteste  = train_test_split(X, y, test_size = 0.25)\n",
        "\n",
        "  arvore = DecisionTreeRegressor(max_depth= profundidade)\n",
        "  arvore.fit(Xtreino, ytreino)\n",
        "\n",
        "  preditos_treino = arvore.predict(Xtreino)\n",
        "  eqm_treino = mean_squared_error(preditos_treino, ytreino)\n",
        "  eqms_treino.append(eqm_treino)\n",
        "\n",
        "  preditos_teste = arvore.predict(Xteste)\n",
        "  eqm_teste = mean_squared_error(preditos_teste, yteste)\n",
        "  eqms_teste.append(eqm_teste)\n",
        " \n",
        "print('O Erro Quadrático Médio de TREINO foi: {:.2f}'.format(np.mean(eqms_treino)))\n",
        "print('O Erro Quadrático Médio de TESTE  foi:  {:.2f}'.format(np.mean(eqms_teste)))\n",
        "print('-'*80)\n",
        "score_treino = r2_score(ytreino,preditos_treino)\n",
        "score_teste = r2_score(yteste,preditos_teste)\n",
        "print('O modelo consegue explicar em {:.2f}% o resultado obtido com dados de TREINO.'.format(score_treino*100))\n",
        "print('O modelo consegue explicar em {:.2f}% o resultado obtido com dados de TESTE.'.format(score_teste*100))"
      ],
      "execution_count": 13,
      "outputs": [
        {
          "output_type": "stream",
          "text": [
            "O Erro Quadrático Médio de TREINO foi: 19.19\n",
            "O Erro Quadrático Médio de TESTE  foi:  22.39\n",
            "--------------------------------------------------------------------------------\n",
            "O modelo consegue explicar em 87.86% o resultado obtido com dados de TREINO.\n",
            "O modelo consegue explicar em 83.10% o resultado obtido com dados de TESTE.\n"
          ],
          "name": "stdout"
        }
      ]
    },
    {
      "cell_type": "code",
      "metadata": {
        "colab": {
          "base_uri": "https://localhost:8080/",
          "height": 0
        },
        "id": "Ax39KzFDt_u1",
        "outputId": "6073513e-571a-4efa-bb38-3b428200cc80"
      },
      "source": [
        "# Gráfico da Árvore\n",
        "from sklearn.tree import plot_tree\n",
        "\n",
        "X = dados[['bmi', 'smoker','age']]\n",
        "y = dados['charges']\n",
        "\n",
        "arvore = DecisionTreeRegressor(min_samples_split = 300)\n",
        "arvore.fit(X, y)\n",
        "\n",
        "plt.figure(figsize = (14, 8))\n",
        "plot_tree(arvore, filled=True, proportion = False, impurity = False)\n",
        "plt.show()"
      ],
      "execution_count": 14,
      "outputs": [
        {
          "output_type": "display_data",
          "data": {
            "image/png": "[encoded data removed]",
            "text/plain": [
              "<Figure size 1008x576 with 1 Axes>"
            ]
          },
          "metadata": {
            "tags": [],
            "needs_background": "light"
          }
        }
      ]
    },
    {
      "cell_type": "markdown",
      "metadata": {
        "id": "PRYRJjt1wAbO"
      },
      "source": [
        "## Comparação de modelos"
      ]
    },
    {
      "cell_type": "markdown",
      "metadata": {
        "id": "jPjCEUWVw2Hl"
      },
      "source": [
        "### Funções para comparação de modelos:"
      ]
    },
    {
      "cell_type": "code",
      "metadata": {
        "id": "7zfHEj_wwCV4"
      },
      "source": [
        "def HoldoutEQM(modelo, replicas = 50, proporcao = 0.25): \n",
        "\n",
        "    eqms_treino = []\n",
        "    eqms_teste = []\n",
        "\n",
        "    for i in range(replicas):\n",
        "        Xtreino , Xteste, ytreino, yteste  = train_test_split(X, y, test_size = proporcao)\n",
        "        \n",
        "        #Treinando o Modelo\n",
        "        reg = modelo\n",
        "        reg.fit(Xtreino, ytreino)\n",
        "\n",
        "        #Verificando o eqm no teste\n",
        "        preditos_treino = reg.predict(Xtreino) \n",
        "        eqm_treino = mean_squared_error(ytreino, preditos_treino)\n",
        "\n",
        "        preditos_teste = reg.predict(Xteste)\n",
        "        eqm_teste = mean_squared_error(yteste, preditos_teste)\n",
        "\n",
        "        #Guardando o resultado\n",
        "        eqms_treino.append(eqm_treino)\n",
        "        eqms_teste.append(eqm_teste)\n",
        "    \n",
        "    res_treino = np.array(eqms_treino).mean().round(2)\n",
        "    res_teste = np.array(eqms_teste).mean().round(2)\n",
        "\n",
        "    print('EQM médio de TREINO: {}'.format(res_treino))\n",
        "    print('EQM médio de TESTE: {}'.format(res_teste))\n",
        "\n",
        "    return res_treino, res_teste "
      ],
      "execution_count": null,
      "outputs": []
    },
    {
      "cell_type": "code",
      "metadata": {
        "id": "KQBfLKbKwocw"
      },
      "source": [
        "def HoldoutR2(modelo, replicas = 50, proporcao = 0.25): \n",
        "\n",
        "    r2_treino = []\n",
        "    r2_teste = []\n",
        "\n",
        "    for i in range(replicas):\n",
        "        Xtreino , Xteste, ytreino, yteste  = train_test_split(X, y, test_size = proporcao)\n",
        "        \n",
        "        #Treinando o Modelo\n",
        "        reg = modelo\n",
        "        reg.fit(Xtreino, ytreino)\n",
        "\n",
        "        #Verificando o eqm no teste\n",
        "        preditos_treino = reg.predict(Xtreino) \n",
        "        r_treino = r2_score(ytreino, preditos_treino)\n",
        "\n",
        "        preditos_teste = reg.predict(Xteste)\n",
        "        r_teste = r2_score(yteste, preditos_teste)\n",
        "\n",
        "        #Guardando o resultado\n",
        "        r2_treino.append(r_treino)\n",
        "        r2_teste.append(r_teste)\n",
        "    \n",
        "    res_treino = np.array(r2_treino).mean()\n",
        "    res_teste = np.array(r2_teste).mean()\n",
        "\n",
        "    print('R² médio de TREINO: {:.2f}%'.format((res_treino)*100))\n",
        "    print('R² médio de TESTE: {:.2f}%'.format((res_teste)*100))\n",
        "\n",
        "    return res_treino, res_teste "
      ],
      "execution_count": null,
      "outputs": []
    },
    {
      "cell_type": "markdown",
      "metadata": {
        "id": "3MIUJsuVw8p8"
      },
      "source": [
        "### Comparação de modelos:"
      ]
    },
    {
      "cell_type": "code",
      "metadata": {
        "colab": {
          "base_uri": "https://localhost:8080/"
        },
        "id": "2doSPO_hwMzu",
        "outputId": "34e287aa-3f56-4814-f684-4f50b24e0f5f"
      },
      "source": [
        "HoldoutEQM(modelo = LinearRegression())"
      ],
      "execution_count": null,
      "outputs": [
        {
          "output_type": "stream",
          "text": [
            "EQM médio de TREINO: 36.81\n",
            "EQM médio de TESTE: 37.78\n"
          ],
          "name": "stdout"
        },
        {
          "output_type": "execute_result",
          "data": {
            "text/plain": [
              "(36.81, 37.78)"
            ]
          },
          "metadata": {
            "tags": []
          },
          "execution_count": 217
        }
      ]
    },
    {
      "cell_type": "code",
      "metadata": {
        "colab": {
          "base_uri": "https://localhost:8080/"
        },
        "id": "G_Zf9v4TwPNW",
        "outputId": "60448577-3418-4d83-fefa-c13dcf33f6ad"
      },
      "source": [
        "HoldoutEQM(modelo = DecisionTreeRegressor())"
      ],
      "execution_count": null,
      "outputs": [
        {
          "output_type": "stream",
          "text": [
            "EQM médio de TREINO: 0.56\n",
            "EQM médio de TESTE: 44.02\n"
          ],
          "name": "stdout"
        },
        {
          "output_type": "execute_result",
          "data": {
            "text/plain": [
              "(0.56, 44.02)"
            ]
          },
          "metadata": {
            "tags": []
          },
          "execution_count": 218
        }
      ]
    },
    {
      "cell_type": "code",
      "metadata": {
        "colab": {
          "base_uri": "https://localhost:8080/"
        },
        "id": "jLIXeIdQ__eC",
        "outputId": "87a73ca3-aa52-40f3-a4bc-ffef251f214b"
      },
      "source": [
        "HoldoutR2(modelo=LinearRegression())"
      ],
      "execution_count": null,
      "outputs": [
        {
          "output_type": "stream",
          "text": [
            "R² médio de TREINO: 74.82%\n",
            "R² médio de TESTE: 74.14%\n"
          ],
          "name": "stdout"
        },
        {
          "output_type": "execute_result",
          "data": {
            "text/plain": [
              "(0.7481823641184541, 0.7414001113309493)"
            ]
          },
          "metadata": {
            "tags": []
          },
          "execution_count": 219
        }
      ]
    },
    {
      "cell_type": "code",
      "metadata": {
        "colab": {
          "base_uri": "https://localhost:8080/"
        },
        "id": "2XIw-D1x-jYx",
        "outputId": "61f91401-d933-4577-bceb-f940d4b218c0"
      },
      "source": [
        "HoldoutR2(modelo = DecisionTreeRegressor())"
      ],
      "execution_count": null,
      "outputs": [
        {
          "output_type": "stream",
          "text": [
            "R² médio de TREINO: 99.64%\n",
            "R² médio de TESTE: 69.87%\n"
          ],
          "name": "stdout"
        },
        {
          "output_type": "execute_result",
          "data": {
            "text/plain": [
              "(0.9963879003106894, 0.6986524984706398)"
            ]
          },
          "metadata": {
            "tags": []
          },
          "execution_count": 220
        }
      ]
    },
    {
      "cell_type": "code",
      "metadata": {
        "colab": {
          "base_uri": "https://localhost:8080/",
          "height": 643
        },
        "id": "0jvRwSB9AtSC",
        "outputId": "b1101c1a-9c5a-41af-e98c-61fd7da4c61d"
      },
      "source": [
        "X = dados[['bmi', 'smoker','age']]\n",
        "y = dados['charges']\n",
        "\n",
        "modelos = [LinearRegression(), \n",
        "           DecisionTreeRegressor(max_depth = 1),\n",
        "           DecisionTreeRegressor(max_depth = 2),\n",
        "           DecisionTreeRegressor(max_depth = 3),\n",
        "           DecisionTreeRegressor(max_depth = 4),\n",
        "           DecisionTreeRegressor(max_depth = 5)]\n",
        "\n",
        "nomes = ['Regressão Linear',\n",
        "         'Árvore 1 camada',\n",
        "         'Árvore 2 camadas',\n",
        "         'Árvore 3 camadas',\n",
        "         'Árvore 4 camadas',\n",
        "         'Árvore 5 camadas']\n",
        "\n",
        "eqm_treinos = []\n",
        "eqm_testes = []\n",
        "r2_treinos = []\n",
        "r2_testes = []\n",
        "\n",
        "for modelo in modelos:\n",
        "    resultados = HoldoutEQM(modelo)\n",
        "    eqm_treinos.append(resultados[0])\n",
        "    eqm_testes.append(resultados[1])\n",
        "\n",
        "for modelo in modelos:\n",
        "    resultados = HoldoutR2(modelo)\n",
        "    r2_treinos.append(resultados[0])\n",
        "    r2_testes.append(resultados[1])\n",
        "\n",
        "aux = {'EQM': eqm_testes, 'R2': r2_testes}\n",
        "resultados = pd.DataFrame(aux, index = nomes)\n",
        "resultados.sort_values(by = 'R2', ascending=False)"
      ],
      "execution_count": null,
      "outputs": [
        {
          "output_type": "stream",
          "text": [
            "EQM médio de TREINO: 36.98\n",
            "EQM médio de TESTE: 37.25\n",
            "EQM médio de TREINO: 55.63\n",
            "EQM médio de TESTE: 56.16\n",
            "EQM médio de TREINO: 25.22\n",
            "EQM médio de TESTE: 26.35\n",
            "EQM médio de TREINO: 21.1\n",
            "EQM médio de TESTE: 21.7\n",
            "EQM médio de TREINO: 19.22\n",
            "EQM médio de TESTE: 22.13\n",
            "EQM médio de TREINO: 17.65\n",
            "EQM médio de TESTE: 24.07\n",
            "R² médio de TREINO: 74.95%\n",
            "R² médio de TESTE: 73.76%\n",
            "R² médio de TREINO: 61.84%\n",
            "R² médio de TESTE: 62.08%\n",
            "R² médio de TREINO: 82.71%\n",
            "R² médio de TESTE: 82.26%\n",
            "R² médio de TREINO: 85.72%\n",
            "R² médio de TESTE: 84.51%\n",
            "R² médio de TREINO: 86.85%\n",
            "R² médio de TESTE: 84.80%\n",
            "R² médio de TREINO: 87.86%\n",
            "R² médio de TESTE: 83.85%\n"
          ],
          "name": "stdout"
        },
        {
          "output_type": "execute_result",
          "data": {
            "text/html": [
              "<div>\n",
              "<style scoped>\n",
              "    .dataframe tbody tr th:only-of-type {\n",
              "        vertical-align: middle;\n",
              "    }\n",
              "\n",
              "    .dataframe tbody tr th {\n",
              "        vertical-align: top;\n",
              "    }\n",
              "\n",
              "    .dataframe thead th {\n",
              "        text-align: right;\n",
              "    }\n",
              "</style>\n",
              "<table border=\"1\" class=\"dataframe\">\n",
              "  <thead>\n",
              "    <tr style=\"text-align: right;\">\n",
              "      <th></th>\n",
              "      <th>EQM</th>\n",
              "      <th>R2</th>\n",
              "    </tr>\n",
              "  </thead>\n",
              "  <tbody>\n",
              "    <tr>\n",
              "      <th>Árvore 4 camadas</th>\n",
              "      <td>22.13</td>\n",
              "      <td>0.848031</td>\n",
              "    </tr>\n",
              "    <tr>\n",
              "      <th>Árvore 3 camadas</th>\n",
              "      <td>21.70</td>\n",
              "      <td>0.845123</td>\n",
              "    </tr>\n",
              "    <tr>\n",
              "      <th>Árvore 5 camadas</th>\n",
              "      <td>24.07</td>\n",
              "      <td>0.838514</td>\n",
              "    </tr>\n",
              "    <tr>\n",
              "      <th>Árvore 2 camadas</th>\n",
              "      <td>26.35</td>\n",
              "      <td>0.822605</td>\n",
              "    </tr>\n",
              "    <tr>\n",
              "      <th>Regressão Linear</th>\n",
              "      <td>37.25</td>\n",
              "      <td>0.737632</td>\n",
              "    </tr>\n",
              "    <tr>\n",
              "      <th>Árvore 1 camada</th>\n",
              "      <td>56.16</td>\n",
              "      <td>0.620796</td>\n",
              "    </tr>\n",
              "  </tbody>\n",
              "</table>\n",
              "</div>"
            ],
            "text/plain": [
              "                    EQM        R2\n",
              "Árvore 4 camadas  22.13  0.848031\n",
              "Árvore 3 camadas  21.70  0.845123\n",
              "Árvore 5 camadas  24.07  0.838514\n",
              "Árvore 2 camadas  26.35  0.822605\n",
              "Regressão Linear  37.25  0.737632\n",
              "Árvore 1 camada   56.16  0.620796"
            ]
          },
          "metadata": {
            "tags": []
          },
          "execution_count": 221
        }
      ]
    },
    {
      "cell_type": "markdown",
      "metadata": {
        "id": "0kz4iAq_yy1b"
      },
      "source": [
        "Dentre todos os modelos testados e comparados, para criar este modelo, usaremos a Árvore de Decisão de profundidade 4."
      ]
    },
    {
      "cell_type": "markdown",
      "metadata": {
        "id": "-AswfLOkIRvw"
      },
      "source": [
        "## Criando o modelo utilizando Arvore de Decisão de 4 camadas e aplicando em um hipotético novo cliente"
      ]
    },
    {
      "cell_type": "code",
      "metadata": {
        "colab": {
          "base_uri": "https://localhost:8080/"
        },
        "id": "WmigV2XoUiwz",
        "outputId": "8a073d9b-7896-47e9-b63a-b7bf9acbd703"
      },
      "source": [
        "x = dados[['bmi', 'smoker','age']] # IMC, fumante e idade são as variáveis que utilizaremos para este modelo.\n",
        "y = dados[['charges']]             # Variável alvo (Y): custo.\n",
        "\n",
        "model_dtr = DecisionTreeRegressor(max_depth = 4)     # aqui está o modelo\n",
        "model_dtr.fit(Xtreino, ytreino)                      # modelo atuando nos dados de treino"
      ],
      "execution_count": 17,
      "outputs": [
        {
          "output_type": "execute_result",
          "data": {
            "text/plain": [
              "DecisionTreeRegressor(ccp_alpha=0.0, criterion='mse', max_depth=4,\n",
              "                      max_features=None, max_leaf_nodes=None,\n",
              "                      min_impurity_decrease=0.0, min_impurity_split=None,\n",
              "                      min_samples_leaf=1, min_samples_split=2,\n",
              "                      min_weight_fraction_leaf=0.0, presort='deprecated',\n",
              "                      random_state=None, splitter='best')"
            ]
          },
          "metadata": {
            "tags": []
          },
          "execution_count": 17
        }
      ]
    },
    {
      "cell_type": "code",
      "metadata": {
        "id": "kGHct8yWBpW3",
        "colab": {
          "base_uri": "https://localhost:8080/"
        },
        "outputId": "dc9be42d-6e27-43ae-835f-7ecceb17114b"
      },
      "source": [
        "# Preencher cliente novo:\n",
        "\n",
        "IMC = 23          # Indice de massa corpórea\n",
        "Fumante = 0       # 1 - SIM 0 - NAO\n",
        "Idade = 30        \n",
        "cobrar = model_dtr.predict([[IMC,Fumante,Idade]]) \n",
        "print('De acordo com o modelo, o valor anual a cobrar deste cliente é de US$ {:.2f}'.format(np.mean(cobrar*1000)))"
      ],
      "execution_count": 19,
      "outputs": [
        {
          "output_type": "stream",
          "text": [
            "De acordo com o modelo, o valor anual a cobrar deste cliente é de US$ 5383.71\n"
          ],
          "name": "stdout"
        }
      ]
    }
  ]
}