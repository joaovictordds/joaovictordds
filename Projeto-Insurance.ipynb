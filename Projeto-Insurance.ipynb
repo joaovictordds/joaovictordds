{
  "nbformat": 4,
  "nbformat_minor": 0,
  "metadata": {
    "language_info": {
      "codemirror_mode": {
        "name": "ipython",
        "version": 3
      },
      "file_extension": ".py",
      "mimetype": "text/x-python",
      "name": "python",
      "nbconvert_exporter": "python",
      "pygments_lexer": "ipython3",
      "version": "3.9.5"
    },
    "orig_nbformat": 2,
    "kernelspec": {
      "name": "python395jvsc74a57bd00c2bd3f98af5aac689406899aacf0c484041ed528a319f1c6e918a64c0e15801",
      "display_name": "Python 3.9.5 64-bit"
    },
    "metadata": {
      "interpreter": {
        "hash": "0c2bd3f98af5aac689406899aacf0c484041ed528a319f1c6e918a64c0e15801"
      }
    },
    "colab": {
      "name": "Projeto-Insurance",
      "provenance": [],
      "collapsed_sections": [
        "QDDMvZ670sbo",
        "TfSN4dDS1M-9",
        "LeZ9ITXv0IEK",
        "qxNbzSWNXFH-",
        "kWdlYPEr0IEM",
        "K0qCf6Fw28Uy",
        "jlCSChoW4hWg",
        "KnqkXMx-m3j-",
        "KezzrFsv5XqF",
        "PRYRJjt1wAbO",
        "jPjCEUWVw2Hl",
        "3MIUJsuVw8p8"
      ],
      "include_colab_link": true
    }
  },
  "cells": [
    {
      "cell_type": "markdown",
      "metadata": {
        "id": "view-in-github",
        "colab_type": "text"
      },
      "source": [
        "<a href=\"https://colab.research.google.com/github/joaovictordds/joaovictordds/blob/main/Projeto-Insurance.ipynb\" target=\"_parent\"><img src=\"https://colab.research.google.com/assets/colab-badge.svg\" alt=\"Open In Colab\"/></a>"
      ]
    },
    {
      "cell_type": "markdown",
      "metadata": {
        "id": "raBn5H3E0bVp"
      },
      "source": [
        "**Técnicas de Machine Learning para estimar preços do plano de saúde**"
      ]
    },
    {
      "cell_type": "markdown",
      "metadata": {
        "id": "QDDMvZ670sbo"
      },
      "source": [
        "## Modelo de Regressão Linear com três variáveis"
      ]
    },
    {
      "cell_type": "markdown",
      "metadata": {
        "id": "TfSN4dDS1M-9"
      },
      "source": [
        "### Importando dados e bibliotecas de análise e manipulação de dados"
      ]
    },
    {
      "cell_type": "code",
      "metadata": {
        "id": "ySiy-mru0IEE"
      },
      "source": [
        "import pandas as pd\n",
        "import numpy as np\n",
        "import warnings # don't show warnings\n",
        "warnings.filterwarnings(\"ignore\")\n",
        "\n",
        "caminho = 'https://raw.githubusercontent.com/gitflai/DDS4/main/insurance.csv'\n",
        "dados = pd.read_csv(caminho)"
      ],
      "execution_count": 62,
      "outputs": []
    },
    {
      "cell_type": "code",
      "metadata": {
        "id": "zZLTHl-Q0IEI",
        "colab": {
          "base_uri": "https://localhost:8080/"
        },
        "outputId": "ac17eb6d-c98b-4378-c8fb-750840d3c4af"
      },
      "source": [
        "dados.info()"
      ],
      "execution_count": 63,
      "outputs": [
        {
          "output_type": "stream",
          "text": [
            "<class 'pandas.core.frame.DataFrame'>\n",
            "RangeIndex: 1338 entries, 0 to 1337\n",
            "Data columns (total 7 columns):\n",
            " #   Column    Non-Null Count  Dtype  \n",
            "---  ------    --------------  -----  \n",
            " 0   age       1338 non-null   int64  \n",
            " 1   sex       1338 non-null   object \n",
            " 2   bmi       1338 non-null   float64\n",
            " 3   children  1338 non-null   int64  \n",
            " 4   smoker    1338 non-null   object \n",
            " 5   region    1338 non-null   object \n",
            " 6   charges   1338 non-null   float64\n",
            "dtypes: float64(2), int64(2), object(3)\n",
            "memory usage: 73.3+ KB\n"
          ],
          "name": "stdout"
        }
      ]
    },
    {
      "cell_type": "code",
      "metadata": {
        "id": "rgiQS-LQ0IEK",
        "colab": {
          "base_uri": "https://localhost:8080/",
          "height": 0
        },
        "outputId": "66cd598b-83bd-43ab-b252-63ad4bd01c3d"
      },
      "source": [
        "dados.describe()"
      ],
      "execution_count": 64,
      "outputs": [
        {
          "output_type": "execute_result",
          "data": {
            "text/html": [
              "<div>\n",
              "<style scoped>\n",
              "    .dataframe tbody tr th:only-of-type {\n",
              "        vertical-align: middle;\n",
              "    }\n",
              "\n",
              "    .dataframe tbody tr th {\n",
              "        vertical-align: top;\n",
              "    }\n",
              "\n",
              "    .dataframe thead th {\n",
              "        text-align: right;\n",
              "    }\n",
              "</style>\n",
              "<table border=\"1\" class=\"dataframe\">\n",
              "  <thead>\n",
              "    <tr style=\"text-align: right;\">\n",
              "      <th></th>\n",
              "      <th>age</th>\n",
              "      <th>bmi</th>\n",
              "      <th>children</th>\n",
              "      <th>charges</th>\n",
              "    </tr>\n",
              "  </thead>\n",
              "  <tbody>\n",
              "    <tr>\n",
              "      <th>count</th>\n",
              "      <td>1338.000000</td>\n",
              "      <td>1338.000000</td>\n",
              "      <td>1338.000000</td>\n",
              "      <td>1338.000000</td>\n",
              "    </tr>\n",
              "    <tr>\n",
              "      <th>mean</th>\n",
              "      <td>39.207025</td>\n",
              "      <td>30.663397</td>\n",
              "      <td>1.094918</td>\n",
              "      <td>13270.422265</td>\n",
              "    </tr>\n",
              "    <tr>\n",
              "      <th>std</th>\n",
              "      <td>14.049960</td>\n",
              "      <td>6.098187</td>\n",
              "      <td>1.205493</td>\n",
              "      <td>12110.011237</td>\n",
              "    </tr>\n",
              "    <tr>\n",
              "      <th>min</th>\n",
              "      <td>18.000000</td>\n",
              "      <td>15.960000</td>\n",
              "      <td>0.000000</td>\n",
              "      <td>1121.873900</td>\n",
              "    </tr>\n",
              "    <tr>\n",
              "      <th>25%</th>\n",
              "      <td>27.000000</td>\n",
              "      <td>26.296250</td>\n",
              "      <td>0.000000</td>\n",
              "      <td>4740.287150</td>\n",
              "    </tr>\n",
              "    <tr>\n",
              "      <th>50%</th>\n",
              "      <td>39.000000</td>\n",
              "      <td>30.400000</td>\n",
              "      <td>1.000000</td>\n",
              "      <td>9382.033000</td>\n",
              "    </tr>\n",
              "    <tr>\n",
              "      <th>75%</th>\n",
              "      <td>51.000000</td>\n",
              "      <td>34.693750</td>\n",
              "      <td>2.000000</td>\n",
              "      <td>16639.912515</td>\n",
              "    </tr>\n",
              "    <tr>\n",
              "      <th>max</th>\n",
              "      <td>64.000000</td>\n",
              "      <td>53.130000</td>\n",
              "      <td>5.000000</td>\n",
              "      <td>63770.428010</td>\n",
              "    </tr>\n",
              "  </tbody>\n",
              "</table>\n",
              "</div>"
            ],
            "text/plain": [
              "               age          bmi     children       charges\n",
              "count  1338.000000  1338.000000  1338.000000   1338.000000\n",
              "mean     39.207025    30.663397     1.094918  13270.422265\n",
              "std      14.049960     6.098187     1.205493  12110.011237\n",
              "min      18.000000    15.960000     0.000000   1121.873900\n",
              "25%      27.000000    26.296250     0.000000   4740.287150\n",
              "50%      39.000000    30.400000     1.000000   9382.033000\n",
              "75%      51.000000    34.693750     2.000000  16639.912515\n",
              "max      64.000000    53.130000     5.000000  63770.428010"
            ]
          },
          "metadata": {
            "tags": []
          },
          "execution_count": 64
        }
      ]
    },
    {
      "cell_type": "markdown",
      "metadata": {
        "id": "LeZ9ITXv0IEK"
      },
      "source": [
        "### Análise Exploratória dos Dados"
      ]
    },
    {
      "cell_type": "code",
      "metadata": {
        "colab": {
          "base_uri": "https://localhost:8080/",
          "height": 82
        },
        "id": "G-PlDhOYXMUE",
        "outputId": "1f3dd276-7833-4744-fceb-144c98740580"
      },
      "source": [
        "# Análise do custo x sexo\n",
        "dados[['sex','charges']].groupby(['sex'], as_index=False).mean().sort_values(by='charges',ascending=False).style.background_gradient('Blues')"
      ],
      "execution_count": 4,
      "outputs": [
        {
          "output_type": "execute_result",
          "data": {
            "text/html": [
              "<style  type=\"text/css\" >\n",
              "#T_f8bfe942_c536_11eb_8869_0242ac1c0002row0_col1{\n",
              "            background-color:  #08306b;\n",
              "            color:  #f1f1f1;\n",
              "        }#T_f8bfe942_c536_11eb_8869_0242ac1c0002row1_col1{\n",
              "            background-color:  #f7fbff;\n",
              "            color:  #000000;\n",
              "        }</style><table id=\"T_f8bfe942_c536_11eb_8869_0242ac1c0002\" ><thead>    <tr>        <th class=\"blank level0\" ></th>        <th class=\"col_heading level0 col0\" >sex</th>        <th class=\"col_heading level0 col1\" >charges</th>    </tr></thead><tbody>\n",
              "                <tr>\n",
              "                        <th id=\"T_f8bfe942_c536_11eb_8869_0242ac1c0002level0_row0\" class=\"row_heading level0 row0\" >1</th>\n",
              "                        <td id=\"T_f8bfe942_c536_11eb_8869_0242ac1c0002row0_col0\" class=\"data row0 col0\" >male</td>\n",
              "                        <td id=\"T_f8bfe942_c536_11eb_8869_0242ac1c0002row0_col1\" class=\"data row0 col1\" >13956.751178</td>\n",
              "            </tr>\n",
              "            <tr>\n",
              "                        <th id=\"T_f8bfe942_c536_11eb_8869_0242ac1c0002level0_row1\" class=\"row_heading level0 row1\" >0</th>\n",
              "                        <td id=\"T_f8bfe942_c536_11eb_8869_0242ac1c0002row1_col0\" class=\"data row1 col0\" >female</td>\n",
              "                        <td id=\"T_f8bfe942_c536_11eb_8869_0242ac1c0002row1_col1\" class=\"data row1 col1\" >12569.578844</td>\n",
              "            </tr>\n",
              "    </tbody></table>"
            ],
            "text/plain": [
              "<pandas.io.formats.style.Styler at 0x7fb0210a7ad0>"
            ]
          },
          "metadata": {
            "tags": []
          },
          "execution_count": 4
        }
      ]
    },
    {
      "cell_type": "markdown",
      "metadata": {
        "id": "8DghwZ8MYKbl"
      },
      "source": [
        "Homens pagam mais do que mulheres, porém a diferença não é significativa."
      ]
    },
    {
      "cell_type": "code",
      "metadata": {
        "colab": {
          "base_uri": "https://localhost:8080/",
          "height": 166
        },
        "id": "uf0uYPYDXMMs",
        "outputId": "792c1a14-33ad-4a7c-8bc0-5193780452d1"
      },
      "source": [
        "# Análise do custo x nº filhos\n",
        "dados[['children','charges']].groupby(['children'], as_index=False).mean().sort_values(by='charges',ascending=False).style.background_gradient('Blues')"
      ],
      "execution_count": 5,
      "outputs": [
        {
          "output_type": "execute_result",
          "data": {
            "text/html": [
              "<style  type=\"text/css\" >\n",
              "#T_f92ca910_c536_11eb_8869_0242ac1c0002row0_col0,#T_f92ca910_c536_11eb_8869_0242ac1c0002row3_col1{\n",
              "            background-color:  #4a98c9;\n",
              "            color:  #000000;\n",
              "        }#T_f92ca910_c536_11eb_8869_0242ac1c0002row0_col1,#T_f92ca910_c536_11eb_8869_0242ac1c0002row5_col0{\n",
              "            background-color:  #08306b;\n",
              "            color:  #f1f1f1;\n",
              "        }#T_f92ca910_c536_11eb_8869_0242ac1c0002row1_col0{\n",
              "            background-color:  #94c4df;\n",
              "            color:  #000000;\n",
              "        }#T_f92ca910_c536_11eb_8869_0242ac1c0002row1_col1{\n",
              "            background-color:  #083a7a;\n",
              "            color:  #f1f1f1;\n",
              "        }#T_f92ca910_c536_11eb_8869_0242ac1c0002row2_col0{\n",
              "            background-color:  #1764ab;\n",
              "            color:  #f1f1f1;\n",
              "        }#T_f92ca910_c536_11eb_8869_0242ac1c0002row2_col1{\n",
              "            background-color:  #1c6bb0;\n",
              "            color:  #f1f1f1;\n",
              "        }#T_f92ca910_c536_11eb_8869_0242ac1c0002row3_col0{\n",
              "            background-color:  #d0e1f2;\n",
              "            color:  #000000;\n",
              "        }#T_f92ca910_c536_11eb_8869_0242ac1c0002row4_col0,#T_f92ca910_c536_11eb_8869_0242ac1c0002row5_col1{\n",
              "            background-color:  #f7fbff;\n",
              "            color:  #000000;\n",
              "        }#T_f92ca910_c536_11eb_8869_0242ac1c0002row4_col1{\n",
              "            background-color:  #5ca4d0;\n",
              "            color:  #000000;\n",
              "        }</style><table id=\"T_f92ca910_c536_11eb_8869_0242ac1c0002\" ><thead>    <tr>        <th class=\"blank level0\" ></th>        <th class=\"col_heading level0 col0\" >children</th>        <th class=\"col_heading level0 col1\" >charges</th>    </tr></thead><tbody>\n",
              "                <tr>\n",
              "                        <th id=\"T_f92ca910_c536_11eb_8869_0242ac1c0002level0_row0\" class=\"row_heading level0 row0\" >3</th>\n",
              "                        <td id=\"T_f92ca910_c536_11eb_8869_0242ac1c0002row0_col0\" class=\"data row0 col0\" >3</td>\n",
              "                        <td id=\"T_f92ca910_c536_11eb_8869_0242ac1c0002row0_col1\" class=\"data row0 col1\" >15355.318367</td>\n",
              "            </tr>\n",
              "            <tr>\n",
              "                        <th id=\"T_f92ca910_c536_11eb_8869_0242ac1c0002level0_row1\" class=\"row_heading level0 row1\" >2</th>\n",
              "                        <td id=\"T_f92ca910_c536_11eb_8869_0242ac1c0002row1_col0\" class=\"data row1 col0\" >2</td>\n",
              "                        <td id=\"T_f92ca910_c536_11eb_8869_0242ac1c0002row1_col1\" class=\"data row1 col1\" >15073.563734</td>\n",
              "            </tr>\n",
              "            <tr>\n",
              "                        <th id=\"T_f92ca910_c536_11eb_8869_0242ac1c0002level0_row2\" class=\"row_heading level0 row2\" >4</th>\n",
              "                        <td id=\"T_f92ca910_c536_11eb_8869_0242ac1c0002row2_col0\" class=\"data row2 col0\" >4</td>\n",
              "                        <td id=\"T_f92ca910_c536_11eb_8869_0242ac1c0002row2_col1\" class=\"data row2 col1\" >13850.656311</td>\n",
              "            </tr>\n",
              "            <tr>\n",
              "                        <th id=\"T_f92ca910_c536_11eb_8869_0242ac1c0002level0_row3\" class=\"row_heading level0 row3\" >1</th>\n",
              "                        <td id=\"T_f92ca910_c536_11eb_8869_0242ac1c0002row3_col0\" class=\"data row3 col0\" >1</td>\n",
              "                        <td id=\"T_f92ca910_c536_11eb_8869_0242ac1c0002row3_col1\" class=\"data row3 col1\" >12731.171832</td>\n",
              "            </tr>\n",
              "            <tr>\n",
              "                        <th id=\"T_f92ca910_c536_11eb_8869_0242ac1c0002level0_row4\" class=\"row_heading level0 row4\" >0</th>\n",
              "                        <td id=\"T_f92ca910_c536_11eb_8869_0242ac1c0002row4_col0\" class=\"data row4 col0\" >0</td>\n",
              "                        <td id=\"T_f92ca910_c536_11eb_8869_0242ac1c0002row4_col1\" class=\"data row4 col1\" >12365.975602</td>\n",
              "            </tr>\n",
              "            <tr>\n",
              "                        <th id=\"T_f92ca910_c536_11eb_8869_0242ac1c0002level0_row5\" class=\"row_heading level0 row5\" >5</th>\n",
              "                        <td id=\"T_f92ca910_c536_11eb_8869_0242ac1c0002row5_col0\" class=\"data row5 col0\" >5</td>\n",
              "                        <td id=\"T_f92ca910_c536_11eb_8869_0242ac1c0002row5_col1\" class=\"data row5 col1\" >8786.035247</td>\n",
              "            </tr>\n",
              "    </tbody></table>"
            ],
            "text/plain": [
              "<pandas.io.formats.style.Styler at 0x7fb015be4590>"
            ]
          },
          "metadata": {
            "tags": []
          },
          "execution_count": 5
        }
      ]
    },
    {
      "cell_type": "markdown",
      "metadata": {
        "id": "dqCJ6g8sZE3-"
      },
      "source": [
        "Pessoas com 5 filhos pagam bem menos."
      ]
    },
    {
      "cell_type": "code",
      "metadata": {
        "colab": {
          "base_uri": "https://localhost:8080/",
          "height": 82
        },
        "id": "i9Plo9S-XL5s",
        "outputId": "9a6cfbe2-ef97-4a4c-f49b-095754b1ae22"
      },
      "source": [
        "# Análise de custo x fumantes\n",
        "dados[['charges','smoker']].groupby(['smoker'], as_index=False).mean().sort_values(by='charges', ascending=False).style.background_gradient('Blues')"
      ],
      "execution_count": 6,
      "outputs": [
        {
          "output_type": "execute_result",
          "data": {
            "text/html": [
              "<style  type=\"text/css\" >\n",
              "#T_f9329244_c536_11eb_8869_0242ac1c0002row0_col1{\n",
              "            background-color:  #08306b;\n",
              "            color:  #f1f1f1;\n",
              "        }#T_f9329244_c536_11eb_8869_0242ac1c0002row1_col1{\n",
              "            background-color:  #f7fbff;\n",
              "            color:  #000000;\n",
              "        }</style><table id=\"T_f9329244_c536_11eb_8869_0242ac1c0002\" ><thead>    <tr>        <th class=\"blank level0\" ></th>        <th class=\"col_heading level0 col0\" >smoker</th>        <th class=\"col_heading level0 col1\" >charges</th>    </tr></thead><tbody>\n",
              "                <tr>\n",
              "                        <th id=\"T_f9329244_c536_11eb_8869_0242ac1c0002level0_row0\" class=\"row_heading level0 row0\" >1</th>\n",
              "                        <td id=\"T_f9329244_c536_11eb_8869_0242ac1c0002row0_col0\" class=\"data row0 col0\" >yes</td>\n",
              "                        <td id=\"T_f9329244_c536_11eb_8869_0242ac1c0002row0_col1\" class=\"data row0 col1\" >32050.231832</td>\n",
              "            </tr>\n",
              "            <tr>\n",
              "                        <th id=\"T_f9329244_c536_11eb_8869_0242ac1c0002level0_row1\" class=\"row_heading level0 row1\" >0</th>\n",
              "                        <td id=\"T_f9329244_c536_11eb_8869_0242ac1c0002row1_col0\" class=\"data row1 col0\" >no</td>\n",
              "                        <td id=\"T_f9329244_c536_11eb_8869_0242ac1c0002row1_col1\" class=\"data row1 col1\" >8434.268298</td>\n",
              "            </tr>\n",
              "    </tbody></table>"
            ],
            "text/plain": [
              "<pandas.io.formats.style.Styler at 0x7fb015b6aed0>"
            ]
          },
          "metadata": {
            "tags": []
          },
          "execution_count": 6
        }
      ]
    },
    {
      "cell_type": "markdown",
      "metadata": {
        "id": "Vr9qp8t6ZLmd"
      },
      "source": [
        "A diferença dos clientes que fumam para os que não fumam é grande e esta variável causará grande influência no modelo."
      ]
    },
    {
      "cell_type": "markdown",
      "metadata": {
        "id": "I2JsCDY3ZKwl"
      },
      "source": [
        "Outras informações do dataset:"
      ]
    },
    {
      "cell_type": "code",
      "metadata": {
        "colab": {
          "base_uri": "https://localhost:8080/",
          "height": 82
        },
        "id": "iB0kYe5xZLHt",
        "outputId": "a885092d-5171-4c1f-f038-cba5950bdfb1"
      },
      "source": [
        "sexo = dados.groupby('sex', as_index=False)['age',\"bmi\",\"children\",\"charges\"].mean().sort_values('age', ascending=False).style.background_gradient('Blues')\n",
        "sexo"
      ],
      "execution_count": 7,
      "outputs": [
        {
          "output_type": "execute_result",
          "data": {
            "text/html": [
              "<style  type=\"text/css\" >\n",
              "#T_f939852c_c536_11eb_8869_0242ac1c0002row0_col1,#T_f939852c_c536_11eb_8869_0242ac1c0002row1_col2,#T_f939852c_c536_11eb_8869_0242ac1c0002row1_col3,#T_f939852c_c536_11eb_8869_0242ac1c0002row1_col4{\n",
              "            background-color:  #08306b;\n",
              "            color:  #f1f1f1;\n",
              "        }#T_f939852c_c536_11eb_8869_0242ac1c0002row0_col2,#T_f939852c_c536_11eb_8869_0242ac1c0002row0_col3,#T_f939852c_c536_11eb_8869_0242ac1c0002row0_col4,#T_f939852c_c536_11eb_8869_0242ac1c0002row1_col1{\n",
              "            background-color:  #f7fbff;\n",
              "            color:  #000000;\n",
              "        }</style><table id=\"T_f939852c_c536_11eb_8869_0242ac1c0002\" ><thead>    <tr>        <th class=\"blank level0\" ></th>        <th class=\"col_heading level0 col0\" >sex</th>        <th class=\"col_heading level0 col1\" >age</th>        <th class=\"col_heading level0 col2\" >bmi</th>        <th class=\"col_heading level0 col3\" >children</th>        <th class=\"col_heading level0 col4\" >charges</th>    </tr></thead><tbody>\n",
              "                <tr>\n",
              "                        <th id=\"T_f939852c_c536_11eb_8869_0242ac1c0002level0_row0\" class=\"row_heading level0 row0\" >0</th>\n",
              "                        <td id=\"T_f939852c_c536_11eb_8869_0242ac1c0002row0_col0\" class=\"data row0 col0\" >female</td>\n",
              "                        <td id=\"T_f939852c_c536_11eb_8869_0242ac1c0002row0_col1\" class=\"data row0 col1\" >39.503021</td>\n",
              "                        <td id=\"T_f939852c_c536_11eb_8869_0242ac1c0002row0_col2\" class=\"data row0 col2\" >30.377749</td>\n",
              "                        <td id=\"T_f939852c_c536_11eb_8869_0242ac1c0002row0_col3\" class=\"data row0 col3\" >1.074018</td>\n",
              "                        <td id=\"T_f939852c_c536_11eb_8869_0242ac1c0002row0_col4\" class=\"data row0 col4\" >12569.578844</td>\n",
              "            </tr>\n",
              "            <tr>\n",
              "                        <th id=\"T_f939852c_c536_11eb_8869_0242ac1c0002level0_row1\" class=\"row_heading level0 row1\" >1</th>\n",
              "                        <td id=\"T_f939852c_c536_11eb_8869_0242ac1c0002row1_col0\" class=\"data row1 col0\" >male</td>\n",
              "                        <td id=\"T_f939852c_c536_11eb_8869_0242ac1c0002row1_col1\" class=\"data row1 col1\" >38.917160</td>\n",
              "                        <td id=\"T_f939852c_c536_11eb_8869_0242ac1c0002row1_col2\" class=\"data row1 col2\" >30.943129</td>\n",
              "                        <td id=\"T_f939852c_c536_11eb_8869_0242ac1c0002row1_col3\" class=\"data row1 col3\" >1.115385</td>\n",
              "                        <td id=\"T_f939852c_c536_11eb_8869_0242ac1c0002row1_col4\" class=\"data row1 col4\" >13956.751178</td>\n",
              "            </tr>\n",
              "    </tbody></table>"
            ],
            "text/plain": [
              "<pandas.io.formats.style.Styler at 0x7fb015b7db90>"
            ]
          },
          "metadata": {
            "tags": []
          },
          "execution_count": 7
        }
      ]
    },
    {
      "cell_type": "code",
      "metadata": {
        "colab": {
          "base_uri": "https://localhost:8080/",
          "height": 166
        },
        "id": "V2lqvoi8dP5C",
        "outputId": "43c99546-ec3d-43ff-8ce3-21b914fde9f6"
      },
      "source": [
        "criancas = dados.groupby('children', as_index=False)['age','bmi','charges'].mean().sort_values('age', ascending=False).style.background_gradient('Blues')\n",
        "criancas"
      ],
      "execution_count": 8,
      "outputs": [
        {
          "output_type": "execute_result",
          "data": {
            "text/html": [
              "<style  type=\"text/css\" >\n",
              "#T_f941874a_c536_11eb_8869_0242ac1c0002row0_col0,#T_f941874a_c536_11eb_8869_0242ac1c0002row1_col3{\n",
              "            background-color:  #4a98c9;\n",
              "            color:  #000000;\n",
              "        }#T_f941874a_c536_11eb_8869_0242ac1c0002row0_col1,#T_f941874a_c536_11eb_8869_0242ac1c0002row0_col3,#T_f941874a_c536_11eb_8869_0242ac1c0002row3_col2,#T_f941874a_c536_11eb_8869_0242ac1c0002row5_col0{\n",
              "            background-color:  #08306b;\n",
              "            color:  #f1f1f1;\n",
              "        }#T_f941874a_c536_11eb_8869_0242ac1c0002row0_col2{\n",
              "            background-color:  #4997c9;\n",
              "            color:  #000000;\n",
              "        }#T_f941874a_c536_11eb_8869_0242ac1c0002row1_col0{\n",
              "            background-color:  #d0e1f2;\n",
              "            color:  #000000;\n",
              "        }#T_f941874a_c536_11eb_8869_0242ac1c0002row1_col1{\n",
              "            background-color:  #3c8cc3;\n",
              "            color:  #000000;\n",
              "        }#T_f941874a_c536_11eb_8869_0242ac1c0002row1_col2,#T_f941874a_c536_11eb_8869_0242ac1c0002row3_col1{\n",
              "            background-color:  #549fcd;\n",
              "            color:  #000000;\n",
              "        }#T_f941874a_c536_11eb_8869_0242ac1c0002row2_col0{\n",
              "            background-color:  #94c4df;\n",
              "            color:  #000000;\n",
              "        }#T_f941874a_c536_11eb_8869_0242ac1c0002row2_col1{\n",
              "            background-color:  #3d8dc4;\n",
              "            color:  #000000;\n",
              "        }#T_f941874a_c536_11eb_8869_0242ac1c0002row2_col2{\n",
              "            background-color:  #1d6cb1;\n",
              "            color:  #f1f1f1;\n",
              "        }#T_f941874a_c536_11eb_8869_0242ac1c0002row2_col3{\n",
              "            background-color:  #083a7a;\n",
              "            color:  #f1f1f1;\n",
              "        }#T_f941874a_c536_11eb_8869_0242ac1c0002row3_col0{\n",
              "            background-color:  #1764ab;\n",
              "            color:  #f1f1f1;\n",
              "        }#T_f941874a_c536_11eb_8869_0242ac1c0002row3_col3{\n",
              "            background-color:  #1c6bb0;\n",
              "            color:  #f1f1f1;\n",
              "        }#T_f941874a_c536_11eb_8869_0242ac1c0002row4_col0,#T_f941874a_c536_11eb_8869_0242ac1c0002row5_col1,#T_f941874a_c536_11eb_8869_0242ac1c0002row5_col2,#T_f941874a_c536_11eb_8869_0242ac1c0002row5_col3{\n",
              "            background-color:  #f7fbff;\n",
              "            color:  #000000;\n",
              "        }#T_f941874a_c536_11eb_8869_0242ac1c0002row4_col1{\n",
              "            background-color:  #75b4d8;\n",
              "            color:  #000000;\n",
              "        }#T_f941874a_c536_11eb_8869_0242ac1c0002row4_col2{\n",
              "            background-color:  #61a7d2;\n",
              "            color:  #000000;\n",
              "        }#T_f941874a_c536_11eb_8869_0242ac1c0002row4_col3{\n",
              "            background-color:  #5ca4d0;\n",
              "            color:  #000000;\n",
              "        }</style><table id=\"T_f941874a_c536_11eb_8869_0242ac1c0002\" ><thead>    <tr>        <th class=\"blank level0\" ></th>        <th class=\"col_heading level0 col0\" >children</th>        <th class=\"col_heading level0 col1\" >age</th>        <th class=\"col_heading level0 col2\" >bmi</th>        <th class=\"col_heading level0 col3\" >charges</th>    </tr></thead><tbody>\n",
              "                <tr>\n",
              "                        <th id=\"T_f941874a_c536_11eb_8869_0242ac1c0002level0_row0\" class=\"row_heading level0 row0\" >3</th>\n",
              "                        <td id=\"T_f941874a_c536_11eb_8869_0242ac1c0002row0_col0\" class=\"data row0 col0\" >3</td>\n",
              "                        <td id=\"T_f941874a_c536_11eb_8869_0242ac1c0002row0_col1\" class=\"data row0 col1\" >41.566879</td>\n",
              "                        <td id=\"T_f941874a_c536_11eb_8869_0242ac1c0002row0_col2\" class=\"data row0 col2\" >30.684331</td>\n",
              "                        <td id=\"T_f941874a_c536_11eb_8869_0242ac1c0002row0_col3\" class=\"data row0 col3\" >15355.318367</td>\n",
              "            </tr>\n",
              "            <tr>\n",
              "                        <th id=\"T_f941874a_c536_11eb_8869_0242ac1c0002level0_row1\" class=\"row_heading level0 row1\" >1</th>\n",
              "                        <td id=\"T_f941874a_c536_11eb_8869_0242ac1c0002row1_col0\" class=\"data row1 col0\" >1</td>\n",
              "                        <td id=\"T_f941874a_c536_11eb_8869_0242ac1c0002row1_col1\" class=\"data row1 col1\" >39.453704</td>\n",
              "                        <td id=\"T_f941874a_c536_11eb_8869_0242ac1c0002row1_col2\" class=\"data row1 col2\" >30.623148</td>\n",
              "                        <td id=\"T_f941874a_c536_11eb_8869_0242ac1c0002row1_col3\" class=\"data row1 col3\" >12731.171832</td>\n",
              "            </tr>\n",
              "            <tr>\n",
              "                        <th id=\"T_f941874a_c536_11eb_8869_0242ac1c0002level0_row2\" class=\"row_heading level0 row2\" >2</th>\n",
              "                        <td id=\"T_f941874a_c536_11eb_8869_0242ac1c0002row2_col0\" class=\"data row2 col0\" >2</td>\n",
              "                        <td id=\"T_f941874a_c536_11eb_8869_0242ac1c0002row2_col1\" class=\"data row2 col1\" >39.445833</td>\n",
              "                        <td id=\"T_f941874a_c536_11eb_8869_0242ac1c0002row2_col2\" class=\"data row2 col2\" >30.978104</td>\n",
              "                        <td id=\"T_f941874a_c536_11eb_8869_0242ac1c0002row2_col3\" class=\"data row2 col3\" >15073.563734</td>\n",
              "            </tr>\n",
              "            <tr>\n",
              "                        <th id=\"T_f941874a_c536_11eb_8869_0242ac1c0002level0_row3\" class=\"row_heading level0 row3\" >4</th>\n",
              "                        <td id=\"T_f941874a_c536_11eb_8869_0242ac1c0002row3_col0\" class=\"data row3 col0\" >4</td>\n",
              "                        <td id=\"T_f941874a_c536_11eb_8869_0242ac1c0002row3_col1\" class=\"data row3 col1\" >39.000000</td>\n",
              "                        <td id=\"T_f941874a_c536_11eb_8869_0242ac1c0002row3_col2\" class=\"data row3 col2\" >31.391200</td>\n",
              "                        <td id=\"T_f941874a_c536_11eb_8869_0242ac1c0002row3_col3\" class=\"data row3 col3\" >13850.656311</td>\n",
              "            </tr>\n",
              "            <tr>\n",
              "                        <th id=\"T_f941874a_c536_11eb_8869_0242ac1c0002level0_row4\" class=\"row_heading level0 row4\" >0</th>\n",
              "                        <td id=\"T_f941874a_c536_11eb_8869_0242ac1c0002row4_col0\" class=\"data row4 col0\" >0</td>\n",
              "                        <td id=\"T_f941874a_c536_11eb_8869_0242ac1c0002row4_col1\" class=\"data row4 col1\" >38.444251</td>\n",
              "                        <td id=\"T_f941874a_c536_11eb_8869_0242ac1c0002row4_col2\" class=\"data row4 col2\" >30.550296</td>\n",
              "                        <td id=\"T_f941874a_c536_11eb_8869_0242ac1c0002row4_col3\" class=\"data row4 col3\" >12365.975602</td>\n",
              "            </tr>\n",
              "            <tr>\n",
              "                        <th id=\"T_f941874a_c536_11eb_8869_0242ac1c0002level0_row5\" class=\"row_heading level0 row5\" >5</th>\n",
              "                        <td id=\"T_f941874a_c536_11eb_8869_0242ac1c0002row5_col0\" class=\"data row5 col0\" >5</td>\n",
              "                        <td id=\"T_f941874a_c536_11eb_8869_0242ac1c0002row5_col1\" class=\"data row5 col1\" >35.611111</td>\n",
              "                        <td id=\"T_f941874a_c536_11eb_8869_0242ac1c0002row5_col2\" class=\"data row5 col2\" >29.605000</td>\n",
              "                        <td id=\"T_f941874a_c536_11eb_8869_0242ac1c0002row5_col3\" class=\"data row5 col3\" >8786.035247</td>\n",
              "            </tr>\n",
              "    </tbody></table>"
            ],
            "text/plain": [
              "<pandas.io.formats.style.Styler at 0x7fb015921990>"
            ]
          },
          "metadata": {
            "tags": []
          },
          "execution_count": 8
        }
      ]
    },
    {
      "cell_type": "markdown",
      "metadata": {
        "id": "qxNbzSWNXFH-"
      },
      "source": [
        "#### Análise com a biblioteca sweetviz"
      ]
    },
    {
      "cell_type": "code",
      "metadata": {
        "id": "G98bsnxz1jTV"
      },
      "source": [
        "# Instalação da biblioteca sweetviz para uma visualização inicial das informações\n",
        "#!pip install sweetviz"
      ],
      "execution_count": 9,
      "outputs": []
    },
    {
      "cell_type": "code",
      "metadata": {
        "id": "w1KtbTSn0IEL"
      },
      "source": [
        "import sweetviz as sv\n",
        "eda = sv.analyze(source=dados, target_feat='charges')\n",
        "eda.show_notebook()"
      ],
      "execution_count": null,
      "outputs": []
    },
    {
      "cell_type": "code",
      "metadata": {
        "id": "DCH7QQmW0IEL"
      },
      "source": [
        "# Comparando variaveis com relação ao sexo\n",
        "eda2 = sv.compare_intra(source_df=dados, condition_series=dados['sex']== 'male', names=['Masculino','Feminino'], target_feat='smoker')\n",
        "eda2.show_notebook()"
      ],
      "execution_count": null,
      "outputs": []
    },
    {
      "cell_type": "markdown",
      "metadata": {
        "id": "kWdlYPEr0IEM"
      },
      "source": [
        "### Preparando o conjunto de Dados para Modelagem"
      ]
    },
    {
      "cell_type": "code",
      "metadata": {
        "id": "xInvb_800IEM",
        "colab": {
          "base_uri": "https://localhost:8080/",
          "height": 142
        },
        "outputId": "70ae7685-aded-462c-abc3-167d6800d68f"
      },
      "source": [
        "dados['sex'] = dados['sex'].map({'female': 1, 'male': 0})  # transforma a variavel binaria categórica em numérica\n",
        "dados['smoker'] = dados['smoker'].map({'yes': 1, 'no': 0}) # transforma a variável binária categórica em numérica\n",
        "#dados = pd.get_dummies(dados, columns=['sex','smoker']) # transforma as variáveis selecionadas em dummies\n",
        "dados['charges'] = dados['charges'] / 1000 ## reduzindo o intervalo de variabilidade da variavel 'charges' pois tem valores de seguro de até US$60k\n",
        "dados = dados[['age', 'bmi', 'charges',\t'sex',\t'smoker']] # Selecionando apenas as variáveis que serão utilizadas\n",
        "dados.sample(3) # Uma amostra das informações restantes que serão utilizadas"
      ],
      "execution_count": 65,
      "outputs": [
        {
          "output_type": "execute_result",
          "data": {
            "text/html": [
              "<div>\n",
              "<style scoped>\n",
              "    .dataframe tbody tr th:only-of-type {\n",
              "        vertical-align: middle;\n",
              "    }\n",
              "\n",
              "    .dataframe tbody tr th {\n",
              "        vertical-align: top;\n",
              "    }\n",
              "\n",
              "    .dataframe thead th {\n",
              "        text-align: right;\n",
              "    }\n",
              "</style>\n",
              "<table border=\"1\" class=\"dataframe\">\n",
              "  <thead>\n",
              "    <tr style=\"text-align: right;\">\n",
              "      <th></th>\n",
              "      <th>age</th>\n",
              "      <th>bmi</th>\n",
              "      <th>charges</th>\n",
              "      <th>sex</th>\n",
              "      <th>smoker</th>\n",
              "    </tr>\n",
              "  </thead>\n",
              "  <tbody>\n",
              "    <tr>\n",
              "      <th>840</th>\n",
              "      <td>21</td>\n",
              "      <td>31.10</td>\n",
              "      <td>1.526312</td>\n",
              "      <td>0</td>\n",
              "      <td>0</td>\n",
              "    </tr>\n",
              "    <tr>\n",
              "      <th>1280</th>\n",
              "      <td>48</td>\n",
              "      <td>33.33</td>\n",
              "      <td>8.283681</td>\n",
              "      <td>1</td>\n",
              "      <td>0</td>\n",
              "    </tr>\n",
              "    <tr>\n",
              "      <th>1265</th>\n",
              "      <td>64</td>\n",
              "      <td>23.76</td>\n",
              "      <td>26.926514</td>\n",
              "      <td>0</td>\n",
              "      <td>1</td>\n",
              "    </tr>\n",
              "  </tbody>\n",
              "</table>\n",
              "</div>"
            ],
            "text/plain": [
              "      age    bmi    charges  sex  smoker\n",
              "840    21  31.10   1.526312    0       0\n",
              "1280   48  33.33   8.283681    1       0\n",
              "1265   64  23.76  26.926514    0       1"
            ]
          },
          "metadata": {
            "tags": []
          },
          "execution_count": 65
        }
      ]
    },
    {
      "cell_type": "code",
      "metadata": {
        "id": "8KXW9kgm0IEN",
        "colab": {
          "base_uri": "https://localhost:8080/",
          "height": 361
        },
        "outputId": "c03bd6fe-3936-471b-fbec-cb9a2718308b"
      },
      "source": [
        "import seaborn as sns # Biblioteca que plota gráficos\n",
        "sns.scatterplot(data=dados, x='bmi', y='charges',hue='smoker'); \n",
        "# No eixo X o IMC, eixo Y o valor do plano (/1000) e as cores diferenciam os fumantes dos não fumantes."
      ],
      "execution_count": 66,
      "outputs": [
        {
          "output_type": "display_data",
          "data": {
            "image/png": "[encoded data removed]",
            "text/plain": [
              "<Figure size 576x396 with 1 Axes>"
            ]
          },
          "metadata": {
            "tags": []
          }
        }
      ]
    },
    {
      "cell_type": "markdown",
      "metadata": {
        "id": "K0qCf6Fw28Uy"
      },
      "source": [
        "### Modelo de Regressão Linear"
      ]
    },
    {
      "cell_type": "markdown",
      "metadata": {
        "id": "6lkSJ1K-3P75"
      },
      "source": [
        "O primeiro modelo selecionado para este conjunto de dados e para a resposta que o cliente precisa (**quanto cobrar do cliente**) é o modelo de regressão linear."
      ]
    },
    {
      "cell_type": "code",
      "metadata": {
        "id": "IHe0c-q10IEO",
        "colab": {
          "base_uri": "https://localhost:8080/"
        },
        "outputId": "52b3b10e-5f1b-42a2-ca8e-5301b780add1"
      },
      "source": [
        "from sklearn.linear_model import LinearRegression # Estou baixando a biblioteca do modelo de regressão linear para aplicar.\n",
        "\n",
        "x = dados[['bmi', 'smoker','age']] # IMC, fumante e idade são as variáveis que utilizaremos para este modelo.\n",
        "y = dados[['charges']]             # Variável alvo (Y): custo.\n",
        "\n",
        "model_rli = LinearRegression()     # aqui está o modelo de regressão linear\n",
        "model_rli.fit(x, y)                # modelo atuando em todos os dados (não foi separado em teste e treino ainda)"
      ],
      "execution_count": 72,
      "outputs": [
        {
          "output_type": "execute_result",
          "data": {
            "text/plain": [
              "LinearRegression(copy_X=True, fit_intercept=True, n_jobs=None, normalize=False)"
            ]
          },
          "metadata": {
            "tags": []
          },
          "execution_count": 72
        }
      ]
    },
    {
      "cell_type": "markdown",
      "metadata": {
        "id": "9-1kDqn8363g"
      },
      "source": [
        "O modelo está pronto, abaixo, pode testar com valores aleatórios para saber quanto cobrar de acordo com três informações do futuro cliente: IMC, Idade e se é fumante."
      ]
    },
    {
      "cell_type": "code",
      "metadata": {
        "id": "S7ngFSh60IEO",
        "colab": {
          "base_uri": "https://localhost:8080/"
        },
        "outputId": "21f1d490-2ef4-4c3d-946c-3f1c7f4be4e7"
      },
      "source": [
        "# Preencher cliente novo:\n",
        "\n",
        "IMC = 33          # Indice de massa corpórea\n",
        "Fumante = 1       # 1 - SIM 0 - NAO\n",
        "Idade = 30        \n",
        "cobrar = model_rli.predict([[IMC,Fumante,Idade]]) \n",
        "print('De acordo com o modelo, o valor anual a cobrar deste cliente é de US$ {:.2f}'.format(np.mean(cobrar*1000)))"
      ],
      "execution_count": 73,
      "outputs": [
        {
          "output_type": "stream",
          "text": [
            "De acordo com o modelo, o valor anual a cobrar deste cliente é de US$ 30579.58\n"
          ],
          "name": "stdout"
        }
      ]
    },
    {
      "cell_type": "markdown",
      "metadata": {
        "id": "jlCSChoW4hWg"
      },
      "source": [
        "### Métrica EQM para validação do modelo e Holdout"
      ]
    },
    {
      "cell_type": "markdown",
      "metadata": {
        "id": "SageDTcr4l6n"
      },
      "source": [
        "**Root Mean Squared Error (RMSE) ou Erro Quadrático Médio (EQM)** é uma excelente métrica para modelos de regressão, além de ser muito fácil de interpretar. A Raiz Quadrada do Erro Quadrático Médio — ou simplesmente RMSE em inglês — nada mais é que a diferença entre o valor que foi previsto pelo seu modelo e o valor real que foi observado.\n",
        "\n",
        "Por exemplo, imagine que você está construindo um modelo para prever preço de casas. Esse modelo deveria ter previsto o valor de 100 mil para um exemplo no seu conjunto, mas ele previu 99 mil: esse -R$ 1 mil de diferença é o erro do seu modelo.\n",
        "\n",
        "Agora é só repetir esse processo para todo seu conjunto de treino ou teste, elevar o erro ao quadrado, tirar a média de todos os valores do conjunto e, por fim, calcular a raiz quadrada.\n",
        "\n",
        "fonte: (https://paulovasconcellos.com.br/)"
      ]
    },
    {
      "cell_type": "markdown",
      "metadata": {
        "id": "iSInrerC5GGG"
      },
      "source": [
        "**Método HOLDOUT:** consiste em dividir o conjunto total de dados em dois subconjuntos mutuamente exclusivos, um para treinamento (estimação dos parâmetros) e outro para teste (validação). O conjunto de dados pode ser separado em quantidades iguais ou não."
      ]
    },
    {
      "cell_type": "code",
      "metadata": {
        "id": "8Pz9gYL_0IEP",
        "colab": {
          "base_uri": "https://localhost:8080/",
          "height": 374
        },
        "outputId": "723480a8-01e2-4f1c-dbbf-57a23603d490"
      },
      "source": [
        "from sklearn.model_selection import train_test_split\n",
        "from sklearn.metrics import mean_squared_error\n",
        "#from sklearn.preprocessing import StandardScaler\n",
        "\n",
        "# Separe os dados em teste e treinamento \n",
        "Xtreino, Xteste, ytreino, yteste = train_test_split(x, y, test_size = 0.25)\n",
        "\n",
        "# Normalizando as variáveis X\n",
        "#scaler = StandardScaler()\n",
        "#Xtreino = scaler.fit_transform(Xtreino)\n",
        "#Xteste = scaler.fit_transform(Xteste) \n",
        "\n",
        "# Ajuste do modelo nos dados de TREINO\n",
        "regressao = LinearRegression()\n",
        "regressao.fit(Xtreino, ytreino)\n",
        "\n",
        "# Utilize o modelo ajustado para predizer os dados de TESTE\n",
        "preditos = regressao.predict(Xteste) \n",
        "\n",
        "# Calcule o Erro Quadrático Médio nos dados de TESTE \n",
        "eqm = mean_squared_error(yteste, preditos)\n",
        "print('EQM da Regressão Linear : {}'.format(round(eqm, 2)))"
      ],
      "execution_count": 185,
      "outputs": [
        {
          "output_type": "error",
          "ename": "ValueError",
          "evalue": "ignored",
          "traceback": [
            "\u001b[0;31m---------------------------------------------------------------------------\u001b[0m",
            "\u001b[0;31mValueError\u001b[0m                                Traceback (most recent call last)",
            "\u001b[0;32m<ipython-input-185-94d8b437eaf6>\u001b[0m in \u001b[0;36m<module>\u001b[0;34m()\u001b[0m\n\u001b[1;32m      5\u001b[0m \u001b[0;34m\u001b[0m\u001b[0m\n\u001b[1;32m      6\u001b[0m \u001b[0;31m# Separe os dados em teste e treinamento\u001b[0m\u001b[0;34m\u001b[0m\u001b[0;34m\u001b[0m\u001b[0;34m\u001b[0m\u001b[0m\n\u001b[0;32m----> 7\u001b[0;31m \u001b[0mXtreino\u001b[0m\u001b[0;34m,\u001b[0m \u001b[0mXteste\u001b[0m\u001b[0;34m,\u001b[0m \u001b[0mytreino\u001b[0m\u001b[0;34m,\u001b[0m \u001b[0myteste\u001b[0m \u001b[0;34m=\u001b[0m \u001b[0mtrain_test_split\u001b[0m\u001b[0;34m(\u001b[0m\u001b[0mx\u001b[0m\u001b[0;34m,\u001b[0m \u001b[0my\u001b[0m\u001b[0;34m,\u001b[0m \u001b[0mtest_size\u001b[0m \u001b[0;34m=\u001b[0m \u001b[0;36m0.25\u001b[0m\u001b[0;34m)\u001b[0m\u001b[0;34m\u001b[0m\u001b[0;34m\u001b[0m\u001b[0m\n\u001b[0m\u001b[1;32m      8\u001b[0m \u001b[0;34m\u001b[0m\u001b[0m\n\u001b[1;32m      9\u001b[0m \u001b[0;31m# Normalizando as variáveis X\u001b[0m\u001b[0;34m\u001b[0m\u001b[0;34m\u001b[0m\u001b[0;34m\u001b[0m\u001b[0m\n",
            "\u001b[0;32m/usr/local/lib/python3.7/dist-packages/sklearn/model_selection/_split.py\u001b[0m in \u001b[0;36mtrain_test_split\u001b[0;34m(*arrays, **options)\u001b[0m\n\u001b[1;32m   2116\u001b[0m         \u001b[0;32mraise\u001b[0m \u001b[0mTypeError\u001b[0m\u001b[0;34m(\u001b[0m\u001b[0;34m\"Invalid parameters passed: %s\"\u001b[0m \u001b[0;34m%\u001b[0m \u001b[0mstr\u001b[0m\u001b[0;34m(\u001b[0m\u001b[0moptions\u001b[0m\u001b[0;34m)\u001b[0m\u001b[0;34m)\u001b[0m\u001b[0;34m\u001b[0m\u001b[0;34m\u001b[0m\u001b[0m\n\u001b[1;32m   2117\u001b[0m \u001b[0;34m\u001b[0m\u001b[0m\n\u001b[0;32m-> 2118\u001b[0;31m     \u001b[0marrays\u001b[0m \u001b[0;34m=\u001b[0m \u001b[0mindexable\u001b[0m\u001b[0;34m(\u001b[0m\u001b[0;34m*\u001b[0m\u001b[0marrays\u001b[0m\u001b[0;34m)\u001b[0m\u001b[0;34m\u001b[0m\u001b[0;34m\u001b[0m\u001b[0m\n\u001b[0m\u001b[1;32m   2119\u001b[0m \u001b[0;34m\u001b[0m\u001b[0m\n\u001b[1;32m   2120\u001b[0m     \u001b[0mn_samples\u001b[0m \u001b[0;34m=\u001b[0m \u001b[0m_num_samples\u001b[0m\u001b[0;34m(\u001b[0m\u001b[0marrays\u001b[0m\u001b[0;34m[\u001b[0m\u001b[0;36m0\u001b[0m\u001b[0;34m]\u001b[0m\u001b[0;34m)\u001b[0m\u001b[0;34m\u001b[0m\u001b[0;34m\u001b[0m\u001b[0m\n",
            "\u001b[0;32m/usr/local/lib/python3.7/dist-packages/sklearn/utils/validation.py\u001b[0m in \u001b[0;36mindexable\u001b[0;34m(*iterables)\u001b[0m\n\u001b[1;32m    246\u001b[0m     \"\"\"\n\u001b[1;32m    247\u001b[0m     \u001b[0mresult\u001b[0m \u001b[0;34m=\u001b[0m \u001b[0;34m[\u001b[0m\u001b[0m_make_indexable\u001b[0m\u001b[0;34m(\u001b[0m\u001b[0mX\u001b[0m\u001b[0;34m)\u001b[0m \u001b[0;32mfor\u001b[0m \u001b[0mX\u001b[0m \u001b[0;32min\u001b[0m \u001b[0miterables\u001b[0m\u001b[0;34m]\u001b[0m\u001b[0;34m\u001b[0m\u001b[0;34m\u001b[0m\u001b[0m\n\u001b[0;32m--> 248\u001b[0;31m     \u001b[0mcheck_consistent_length\u001b[0m\u001b[0;34m(\u001b[0m\u001b[0;34m*\u001b[0m\u001b[0mresult\u001b[0m\u001b[0;34m)\u001b[0m\u001b[0;34m\u001b[0m\u001b[0;34m\u001b[0m\u001b[0m\n\u001b[0m\u001b[1;32m    249\u001b[0m     \u001b[0;32mreturn\u001b[0m \u001b[0mresult\u001b[0m\u001b[0;34m\u001b[0m\u001b[0;34m\u001b[0m\u001b[0m\n\u001b[1;32m    250\u001b[0m \u001b[0;34m\u001b[0m\u001b[0m\n",
            "\u001b[0;32m/usr/local/lib/python3.7/dist-packages/sklearn/utils/validation.py\u001b[0m in \u001b[0;36mcheck_consistent_length\u001b[0;34m(*arrays)\u001b[0m\n\u001b[1;32m    210\u001b[0m     \u001b[0;32mif\u001b[0m \u001b[0mlen\u001b[0m\u001b[0;34m(\u001b[0m\u001b[0muniques\u001b[0m\u001b[0;34m)\u001b[0m \u001b[0;34m>\u001b[0m \u001b[0;36m1\u001b[0m\u001b[0;34m:\u001b[0m\u001b[0;34m\u001b[0m\u001b[0;34m\u001b[0m\u001b[0m\n\u001b[1;32m    211\u001b[0m         raise ValueError(\"Found input variables with inconsistent numbers of\"\n\u001b[0;32m--> 212\u001b[0;31m                          \" samples: %r\" % [int(l) for l in lengths])\n\u001b[0m\u001b[1;32m    213\u001b[0m \u001b[0;34m\u001b[0m\u001b[0m\n\u001b[1;32m    214\u001b[0m \u001b[0;34m\u001b[0m\u001b[0m\n",
            "\u001b[0;31mValueError\u001b[0m: Found input variables with inconsistent numbers of samples: [4000, 1338]"
          ]
        }
      ]
    },
    {
      "cell_type": "markdown",
      "metadata": {
        "id": "QgGr__RA5ORl"
      },
      "source": [
        "Abaixo, repetições da técnica Holdout, de maneira a variar os dados que ficam no conjunto de treino e teste. Guardando os resultados do EQM para cada repetição e, no final, calculando a média para obter uma valor mais estável para o EQM."
      ]
    },
    {
      "cell_type": "code",
      "metadata": {
        "id": "FEVOZr0F0IEQ",
        "colab": {
          "base_uri": "https://localhost:8080/"
        },
        "outputId": "ae4f2bdd-1601-48f8-c740-415c3d111e57"
      },
      "source": [
        "# Média do valor mais estável para o EQM\n",
        "\n",
        "R = 100   # Quantidade de vezes que vai rodar\n",
        "eqms = []\n",
        "\n",
        "x = dados[['bmi', 'smoker','age']]\n",
        "y = dados['charges'] \n",
        "\n",
        "for i in range(R):\n",
        "    Xtreino, Xteste, ytreino, yteste  = train_test_split(x, y, test_size = 0.25)\n",
        "    #scaler = StandardScaler()\n",
        "    #Xtreino = scaler.fit_transform(Xtreino)\n",
        "    #Xteste = scaler.fit_transform(Xteste) \n",
        "    reg = LinearRegression()\n",
        "    reg.fit(Xtreino, ytreino)\n",
        "    preditos = reg.predict(Xteste)\n",
        "    eqm = mean_squared_error(yteste, preditos)\n",
        "    eqms.append(eqm)\n",
        "\n",
        "print('Media dos EQM da Regressão Linear : {}'.format(round(np.mean(eqms),2)))"
      ],
      "execution_count": 77,
      "outputs": [
        {
          "output_type": "stream",
          "text": [
            "Media dos EQM da Regressão Linear : 37.47\n"
          ],
          "name": "stdout"
        }
      ]
    },
    {
      "cell_type": "markdown",
      "metadata": {
        "id": "AJ7pG7lq6F-0"
      },
      "source": [
        "Resultado final da saída do teste:"
      ]
    },
    {
      "cell_type": "code",
      "metadata": {
        "colab": {
          "base_uri": "https://localhost:8080/",
          "height": 173
        },
        "id": "nTKHce6FUB6K",
        "outputId": "4a4441d8-7026-483f-cd09-a9a192b6e140"
      },
      "source": [
        "comparativo = pd.DataFrame({'Atual': yteste, 'Preditos': preditos})*1000\n",
        "comparativo.sample(4)"
      ],
      "execution_count": 89,
      "outputs": [
        {
          "output_type": "execute_result",
          "data": {
            "text/html": [
              "<div>\n",
              "<style scoped>\n",
              "    .dataframe tbody tr th:only-of-type {\n",
              "        vertical-align: middle;\n",
              "    }\n",
              "\n",
              "    .dataframe tbody tr th {\n",
              "        vertical-align: top;\n",
              "    }\n",
              "\n",
              "    .dataframe thead th {\n",
              "        text-align: right;\n",
              "    }\n",
              "</style>\n",
              "<table border=\"1\" class=\"dataframe\">\n",
              "  <thead>\n",
              "    <tr style=\"text-align: right;\">\n",
              "      <th></th>\n",
              "      <th>Atual</th>\n",
              "      <th>Preditos</th>\n",
              "    </tr>\n",
              "  </thead>\n",
              "  <tbody>\n",
              "    <tr>\n",
              "      <th>261</th>\n",
              "      <td>17085.2676</td>\n",
              "      <td>25629.935082</td>\n",
              "    </tr>\n",
              "    <tr>\n",
              "      <th>762</th>\n",
              "      <td>19040.8760</td>\n",
              "      <td>29107.117021</td>\n",
              "    </tr>\n",
              "    <tr>\n",
              "      <th>910</th>\n",
              "      <td>2639.0429</td>\n",
              "      <td>3168.398814</td>\n",
              "    </tr>\n",
              "    <tr>\n",
              "      <th>989</th>\n",
              "      <td>14571.8908</td>\n",
              "      <td>24622.037328</td>\n",
              "    </tr>\n",
              "  </tbody>\n",
              "</table>\n",
              "</div>"
            ],
            "text/plain": [
              "          Atual      Preditos\n",
              "261  17085.2676  25629.935082\n",
              "762  19040.8760  29107.117021\n",
              "910   2639.0429   3168.398814\n",
              "989  14571.8908  24622.037328"
            ]
          },
          "metadata": {
            "tags": []
          },
          "execution_count": 89
        }
      ]
    },
    {
      "cell_type": "code",
      "metadata": {
        "id": "H5e0Thmp58p9",
        "colab": {
          "base_uri": "https://localhost:8080/",
          "height": 347
        },
        "outputId": "0c5b92be-e735-4821-f6e1-2c509d701cd4"
      },
      "source": [
        "import matplotlib.pyplot as plt\n",
        "\n",
        "plt.hist(eqms, edgecolor = 'black')\n",
        "plt.show()"
      ],
      "execution_count": 90,
      "outputs": [
        {
          "output_type": "display_data",
          "data": {
            "image/png": "[encoded data removed]",
            "text/plain": [
              "<Figure size 576x396 with 1 Axes>"
            ]
          },
          "metadata": {
            "tags": []
          }
        }
      ]
    },
    {
      "cell_type": "markdown",
      "metadata": {
        "id": "KnqkXMx-m3j-"
      },
      "source": [
        "### Métrica R²"
      ]
    },
    {
      "cell_type": "markdown",
      "metadata": {
        "id": "yN8bnbTigmeD"
      },
      "source": [
        "O coeficiente de determinação, também chamado de R², é uma medida de ajuste de um modelo estatístico linear generalizado, como a regressão linear simples ou múltipla, aos valores observados de uma variável aleatória. O R² varia entre 0 e 1, por vezes sendo expresso em termos percentuais."
      ]
    },
    {
      "cell_type": "code",
      "metadata": {
        "colab": {
          "base_uri": "https://localhost:8080/"
        },
        "id": "wAHlJSCbNxDe",
        "outputId": "0c2fa648-eeb2-4510-ecc4-8acd5f1de9dc"
      },
      "source": [
        "from sklearn.metrics import r2_score\n",
        "score = r2_score(yteste,preditos)\n",
        "print('O modelo consegue explicar em {:.2f}% o resultado obtido.'.format(score*100))"
      ],
      "execution_count": 88,
      "outputs": [
        {
          "output_type": "stream",
          "text": [
            "O modelo consegue explicar em 74.76% o resultado obtido.\n"
          ],
          "name": "stdout"
        }
      ]
    },
    {
      "cell_type": "markdown",
      "metadata": {
        "id": "KezzrFsv5XqF"
      },
      "source": [
        "## Árvores de Decisão"
      ]
    },
    {
      "cell_type": "markdown",
      "metadata": {
        "id": "Lhq9OWnM5zQc"
      },
      "source": [
        "Modelagem da árvore de decisão e na saída as métricas do EQM e R²:"
      ]
    },
    {
      "cell_type": "code",
      "metadata": {
        "id": "b6L0toiX5uO6",
        "colab": {
          "base_uri": "https://localhost:8080/"
        },
        "outputId": "e923370e-3092-4acb-e11d-853634fc3692"
      },
      "source": [
        "from sklearn.tree import DecisionTreeRegressor\n",
        "\n",
        "profundidade = 4\n",
        "\n",
        "R = 100\n",
        "eqms_treino = []\n",
        "eqms_teste = []\n",
        "\n",
        "X = dados[['bmi','smoker','age']]\n",
        "y = dados['charges']\n",
        "\n",
        "for i in range(R):\n",
        "  Xtreino, Xteste, ytreino, yteste  = train_test_split(X, y, test_size = 0.25)\n",
        "\n",
        "  arvore = DecisionTreeRegressor(max_depth= profundidade)\n",
        "  arvore.fit(Xtreino, ytreino)\n",
        "\n",
        "  preditos_treino = arvore.predict(Xtreino)\n",
        "  eqm_treino = mean_squared_error(preditos_treino, ytreino)\n",
        "  eqms_treino.append(eqm_treino)\n",
        "\n",
        "  preditos_teste = arvore.predict(Xteste)\n",
        "  eqm_teste = mean_squared_error(preditos_teste, yteste)\n",
        "  eqms_teste.append(eqm_teste)\n",
        " \n",
        "print('O Erro Quadrático Médio de TREINO foi: {:.2f}'.format(np.mean(eqms_treino)))\n",
        "print('O Erro Quadrático Médio de TESTE  foi:  {:.2f}'.format(np.mean(eqms_teste)))\n",
        "print('-'*80)\n",
        "score_treino = r2_score(ytreino,preditos_treino)\n",
        "score_teste = r2_score(yteste,preditos_teste)\n",
        "print('O modelo consegue explicar em {:.2f}% o resultado obtido com dados de TREINO.'.format(score_treino*100))\n",
        "print('O modelo consegue explicar em {:.2f}% o resultado obtido com dados de TESTE.'.format(score_teste*100))"
      ],
      "execution_count": 105,
      "outputs": [
        {
          "output_type": "stream",
          "text": [
            "O Erro Quadrático Médio de TREINO foi: 19.25\n",
            "O Erro Quadrático Médio de TESTE  foi:  21.98\n",
            "--------------------------------------------------------------------------------\n",
            "O modelo consegue explicar em 87.32% o resultado obtido com dados de TREINO.\n",
            "O modelo consegue explicar em 84.16% o resultado obtido com dados de TESTE.\n"
          ],
          "name": "stdout"
        }
      ]
    },
    {
      "cell_type": "code",
      "metadata": {
        "colab": {
          "base_uri": "https://localhost:8080/",
          "height": 466
        },
        "id": "Ax39KzFDt_u1",
        "outputId": "5c496c46-d0ba-4bda-ff73-c2615751c03e"
      },
      "source": [
        "# Gráfico da Árvore\n",
        "from sklearn.tree import plot_tree\n",
        "\n",
        "X = dados[['bmi', 'smoker','age']]\n",
        "y = dados['charges']\n",
        "\n",
        "arvore = DecisionTreeRegressor(min_samples_split = 300)\n",
        "arvore.fit(X, y)\n",
        "\n",
        "plt.figure(figsize = (14, 8))\n",
        "plot_tree(arvore, filled=True, proportion = False, impurity = False)\n",
        "plt.show()"
      ],
      "execution_count": 109,
      "outputs": [
        {
          "output_type": "display_data",
          "data": {
            "image/png": "[encoded data removed]",
            "text/plain": [
              "<Figure size 1008x576 with 1 Axes>"
            ]
          },
          "metadata": {
            "tags": []
          }
        }
      ]
    },
    {
      "cell_type": "markdown",
      "metadata": {
        "id": "PRYRJjt1wAbO"
      },
      "source": [
        "## Comparação de modelos"
      ]
    },
    {
      "cell_type": "markdown",
      "metadata": {
        "id": "jPjCEUWVw2Hl"
      },
      "source": [
        "### Funções para comparação de modelos:"
      ]
    },
    {
      "cell_type": "code",
      "metadata": {
        "id": "7zfHEj_wwCV4"
      },
      "source": [
        "def HoldoutEQM(modelo, replicas = 50, proporcao = 0.25): \n",
        "\n",
        "    eqms_treino = []\n",
        "    eqms_teste = []\n",
        "\n",
        "    for i in range(replicas):\n",
        "        Xtreino , Xteste, ytreino, yteste  = train_test_split(X, y, test_size = proporcao)\n",
        "        \n",
        "        #Treinando o Modelo\n",
        "        reg = modelo\n",
        "        reg.fit(Xtreino, ytreino)\n",
        "\n",
        "        #Verificando o eqm no teste\n",
        "        preditos_treino = reg.predict(Xtreino) \n",
        "        eqm_treino = mean_squared_error(ytreino, preditos_treino)\n",
        "\n",
        "        preditos_teste = reg.predict(Xteste)\n",
        "        eqm_teste = mean_squared_error(yteste, preditos_teste)\n",
        "\n",
        "        #Guardando o resultado\n",
        "        eqms_treino.append(eqm_treino)\n",
        "        eqms_teste.append(eqm_teste)\n",
        "    \n",
        "    res_treino = np.array(eqms_treino).mean().round(2)\n",
        "    res_teste = np.array(eqms_teste).mean().round(2)\n",
        "\n",
        "    print('EQM médio de TREINO: {}'.format(res_treino))\n",
        "    print('EQM médio de TESTE: {}'.format(res_teste))\n",
        "\n",
        "    return res_treino, res_teste "
      ],
      "execution_count": 143,
      "outputs": []
    },
    {
      "cell_type": "code",
      "metadata": {
        "id": "KQBfLKbKwocw"
      },
      "source": [
        "def HoldoutR2(modelo, replicas = 50, proporcao = 0.25): \n",
        "\n",
        "    r2_treino = []\n",
        "    r2_teste = []\n",
        "\n",
        "    for i in range(replicas):\n",
        "        Xtreino , Xteste, ytreino, yteste  = train_test_split(X, y, test_size = proporcao)\n",
        "        \n",
        "        #Treinando o Modelo\n",
        "        reg = modelo\n",
        "        reg.fit(Xtreino, ytreino)\n",
        "\n",
        "        #Verificando o eqm no teste\n",
        "        preditos_treino = reg.predict(Xtreino) \n",
        "        r_treino = r2_score(ytreino, preditos_treino)\n",
        "\n",
        "        preditos_teste = reg.predict(Xteste)\n",
        "        r_teste = r2_score(yteste, preditos_teste)\n",
        "\n",
        "        #Guardando o resultado\n",
        "        r2_treino.append(r_treino)\n",
        "        r2_teste.append(r_teste)\n",
        "    \n",
        "    res_treino = np.array(r2_treino).mean()\n",
        "    res_teste = np.array(r2_teste).mean()\n",
        "\n",
        "    print('R² médio de TREINO: {:.2f}%'.format((res_treino)*100))\n",
        "    print('R² médio de TESTE: {:.2f}%'.format((res_teste)*100))\n",
        "\n",
        "    return res_treino, res_teste "
      ],
      "execution_count": 163,
      "outputs": []
    },
    {
      "cell_type": "markdown",
      "metadata": {
        "id": "3MIUJsuVw8p8"
      },
      "source": [
        "### Comparação de modelos:"
      ]
    },
    {
      "cell_type": "code",
      "metadata": {
        "colab": {
          "base_uri": "https://localhost:8080/"
        },
        "id": "2doSPO_hwMzu",
        "outputId": "b14f8790-1292-4288-bc18-5f066873d982"
      },
      "source": [
        "HoldoutEQM(modelo = LinearRegression())"
      ],
      "execution_count": 144,
      "outputs": [
        {
          "output_type": "stream",
          "text": [
            "EQM médio de TREINO: 37.03\n",
            "EQM médio de TESTE: 37.14\n"
          ],
          "name": "stdout"
        },
        {
          "output_type": "execute_result",
          "data": {
            "text/plain": [
              "(37.03, 37.14)"
            ]
          },
          "metadata": {
            "tags": []
          },
          "execution_count": 144
        }
      ]
    },
    {
      "cell_type": "code",
      "metadata": {
        "colab": {
          "base_uri": "https://localhost:8080/"
        },
        "id": "G_Zf9v4TwPNW",
        "outputId": "f8083ae8-2df8-46a7-cf3d-0da3fcdf60a0"
      },
      "source": [
        "HoldoutEQM(modelo = DecisionTreeRegressor())"
      ],
      "execution_count": 145,
      "outputs": [
        {
          "output_type": "stream",
          "text": [
            "EQM médio de TREINO: 0.55\n",
            "EQM médio de TESTE: 43.97\n"
          ],
          "name": "stdout"
        },
        {
          "output_type": "execute_result",
          "data": {
            "text/plain": [
              "(0.55, 43.97)"
            ]
          },
          "metadata": {
            "tags": []
          },
          "execution_count": 145
        }
      ]
    },
    {
      "cell_type": "code",
      "metadata": {
        "colab": {
          "base_uri": "https://localhost:8080/"
        },
        "id": "jLIXeIdQ__eC",
        "outputId": "eac057ea-0522-4fbd-c1ce-c1660c07d239"
      },
      "source": [
        "HoldoutR2(modelo=LinearRegression())"
      ],
      "execution_count": 165,
      "outputs": [
        {
          "output_type": "stream",
          "text": [
            "R² médio de TREINO: 74.63%\n",
            "R² médio de TESTE: 74.80%\n"
          ],
          "name": "stdout"
        },
        {
          "output_type": "execute_result",
          "data": {
            "text/plain": [
              "(0.7462775359128461, 0.7480381652482151)"
            ]
          },
          "metadata": {
            "tags": []
          },
          "execution_count": 165
        }
      ]
    },
    {
      "cell_type": "code",
      "metadata": {
        "colab": {
          "base_uri": "https://localhost:8080/"
        },
        "id": "2XIw-D1x-jYx",
        "outputId": "412b9244-46c8-498a-e224-5a7a4df20df4"
      },
      "source": [
        "HoldoutR2(modelo = DecisionTreeRegressor())"
      ],
      "execution_count": 164,
      "outputs": [
        {
          "output_type": "stream",
          "text": [
            "R² médio de TREINO: 99.58%\n",
            "R² médio de TESTE: 69.62%\n"
          ],
          "name": "stdout"
        },
        {
          "output_type": "execute_result",
          "data": {
            "text/plain": [
              "(0.995824536554755, 0.6961561904694491)"
            ]
          },
          "metadata": {
            "tags": []
          },
          "execution_count": 164
        }
      ]
    },
    {
      "cell_type": "code",
      "metadata": {
        "colab": {
          "base_uri": "https://localhost:8080/",
          "height": 643
        },
        "id": "0jvRwSB9AtSC",
        "outputId": "bcee1f20-602d-4390-a4f4-14f76ec1f5d7"
      },
      "source": [
        "X = dados[['bmi', 'smoker','age']]\n",
        "y = dados['charges']\n",
        "\n",
        "modelos = [LinearRegression(), \n",
        "           DecisionTreeRegressor(max_depth = 1),\n",
        "           DecisionTreeRegressor(max_depth = 2),\n",
        "           DecisionTreeRegressor(max_depth = 3),\n",
        "           DecisionTreeRegressor(max_depth = 4),\n",
        "           DecisionTreeRegressor(max_depth = 5)]\n",
        "\n",
        "nomes = ['Regressão Linear',\n",
        "         'Árvore 1 camada',\n",
        "         'Árvore 2 camadas',\n",
        "         'Árvore 3 camadas',\n",
        "         'Árvore 4 camadas',\n",
        "         'Árvore 5 camadas']\n",
        "\n",
        "eqm_treinos = []\n",
        "eqm_testes = []\n",
        "r2_treinos = []\n",
        "r2_testes = []\n",
        "\n",
        "for modelo in modelos:\n",
        "    resultados = HoldoutEQM(modelo)\n",
        "    eqm_treinos.append(resultados[0])\n",
        "    eqm_testes.append(resultados[1])\n",
        "\n",
        "for modelo in modelos:\n",
        "    resultados = HoldoutR2(modelo)\n",
        "    r2_treinos.append(resultados[0])\n",
        "    r2_testes.append(resultados[1])\n",
        "\n",
        "aux = {'EQM': eqm_testes, 'R2': r2_testes}\n",
        "resultados = pd.DataFrame(aux, index = nomes)\n",
        "resultados.sort_values(by = 'R2', ascending=False)"
      ],
      "execution_count": 193,
      "outputs": [
        {
          "output_type": "stream",
          "text": [
            "EQM médio de TREINO: 36.79\n",
            "EQM médio de TESTE: 37.84\n",
            "EQM médio de TREINO: 55.97\n",
            "EQM médio de TESTE: 55.09\n",
            "EQM médio de TREINO: 25.14\n",
            "EQM médio de TESTE: 26.25\n",
            "EQM médio de TREINO: 20.63\n",
            "EQM médio de TESTE: 23.39\n",
            "EQM médio de TREINO: 19.4\n",
            "EQM médio de TESTE: 21.81\n",
            "EQM médio de TREINO: 17.92\n",
            "EQM médio de TESTE: 23.01\n",
            "R² médio de TREINO: 74.67%\n",
            "R² médio de TESTE: 74.61%\n",
            "R² médio de TREINO: 61.84%\n",
            "R² médio de TESTE: 62.02%\n",
            "R² médio de TREINO: 83.04%\n",
            "R² médio de TESTE: 81.17%\n",
            "R² médio de TREINO: 86.04%\n",
            "R² médio de TESTE: 83.60%\n",
            "R² médio de TREINO: 86.95%\n",
            "R² médio de TESTE: 84.64%\n",
            "R² médio de TREINO: 88.07%\n",
            "R² médio de TESTE: 82.96%\n"
          ],
          "name": "stdout"
        },
        {
          "output_type": "execute_result",
          "data": {
            "text/html": [
              "<div>\n",
              "<style scoped>\n",
              "    .dataframe tbody tr th:only-of-type {\n",
              "        vertical-align: middle;\n",
              "    }\n",
              "\n",
              "    .dataframe tbody tr th {\n",
              "        vertical-align: top;\n",
              "    }\n",
              "\n",
              "    .dataframe thead th {\n",
              "        text-align: right;\n",
              "    }\n",
              "</style>\n",
              "<table border=\"1\" class=\"dataframe\">\n",
              "  <thead>\n",
              "    <tr style=\"text-align: right;\">\n",
              "      <th></th>\n",
              "      <th>EQM</th>\n",
              "      <th>R2</th>\n",
              "    </tr>\n",
              "  </thead>\n",
              "  <tbody>\n",
              "    <tr>\n",
              "      <th>Árvore 4 camadas</th>\n",
              "      <td>21.81</td>\n",
              "      <td>0.846354</td>\n",
              "    </tr>\n",
              "    <tr>\n",
              "      <th>Árvore 3 camadas</th>\n",
              "      <td>23.39</td>\n",
              "      <td>0.835989</td>\n",
              "    </tr>\n",
              "    <tr>\n",
              "      <th>Árvore 5 camadas</th>\n",
              "      <td>23.01</td>\n",
              "      <td>0.829572</td>\n",
              "    </tr>\n",
              "    <tr>\n",
              "      <th>Árvore 2 camadas</th>\n",
              "      <td>26.25</td>\n",
              "      <td>0.811687</td>\n",
              "    </tr>\n",
              "    <tr>\n",
              "      <th>Regressão Linear</th>\n",
              "      <td>37.84</td>\n",
              "      <td>0.746053</td>\n",
              "    </tr>\n",
              "    <tr>\n",
              "      <th>Árvore 1 camada</th>\n",
              "      <td>55.09</td>\n",
              "      <td>0.620156</td>\n",
              "    </tr>\n",
              "  </tbody>\n",
              "</table>\n",
              "</div>"
            ],
            "text/plain": [
              "                    EQM        R2\n",
              "Árvore 4 camadas  21.81  0.846354\n",
              "Árvore 3 camadas  23.39  0.835989\n",
              "Árvore 5 camadas  23.01  0.829572\n",
              "Árvore 2 camadas  26.25  0.811687\n",
              "Regressão Linear  37.84  0.746053\n",
              "Árvore 1 camada   55.09  0.620156"
            ]
          },
          "metadata": {
            "tags": []
          },
          "execution_count": 193
        }
      ]
    },
    {
      "cell_type": "markdown",
      "metadata": {
        "id": "0kz4iAq_yy1b"
      },
      "source": [
        "Dentre todos os modelos testados e comparados, para criar este modelo, usaremos a Árvore de Decisão de profundidade 4."
      ]
    },
    {
      "cell_type": "markdown",
      "metadata": {
        "id": "-AswfLOkIRvw"
      },
      "source": [
        "## Criando o modelo utilizando Arvore de Decisão de 4 camadas e aplicando em um hipotético novo cliente"
      ]
    },
    {
      "cell_type": "code",
      "metadata": {
        "id": "kGHct8yWBpW3"
      },
      "source": [
        ""
      ],
      "execution_count": null,
      "outputs": []
    }
  ]
}