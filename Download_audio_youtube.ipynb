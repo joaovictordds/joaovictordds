{
  "nbformat": 4,
  "nbformat_minor": 0,
  "metadata": {
    "colab": {
      "provenance": [],
      "authorship_tag": "ABX9TyOUbdmORO6RMKNfX/fOFbwe",
      "include_colab_link": true
    },
    "kernelspec": {
      "name": "python3",
      "display_name": "Python 3"
    },
    "language_info": {
      "name": "python"
    }
  },
  "cells": [
    {
      "cell_type": "markdown",
      "metadata": {
        "id": "view-in-github",
        "colab_type": "text"
      },
      "source": [
        "<a href=\"https://colab.research.google.com/github/joaovictordds/joaovictordds/blob/main/Download_audio_youtube.ipynb\" target=\"_parent\"><img src=\"https://colab.research.google.com/assets/colab-badge.svg\" alt=\"Open In Colab\"/></a>"
      ]
    },
    {
      "cell_type": "markdown",
      "source": [
        "Realizar o download de audio do youtube utilizando o google colab."
      ],
      "metadata": {
        "id": "RtKMnlku5cPI"
      }
    },
    {
      "cell_type": "code",
      "source": [
        "# Instalar as bibliotecas abaixo\n",
        "!pip install pytube --upgrade\n",
        "#!pip install moviepy --upgrade"
      ],
      "metadata": {
        "id": "Jqf2Kr8j1DyS",
        "colab": {
          "base_uri": "https://localhost:8080/"
        },
        "outputId": "4e1c536d-097d-44d8-bace-ab15e34e9509"
      },
      "execution_count": null,
      "outputs": [
        {
          "output_type": "stream",
          "name": "stdout",
          "text": [
            "Collecting pytube\n",
            "  Downloading pytube-15.0.0-py3-none-any.whl (57 kB)\n",
            "\u001b[?25l     \u001b[90m━━━━━━━━━━━━━━━━━━━━━━━━━━━━━━━━━━━━━━━━\u001b[0m \u001b[32m0.0/57.6 kB\u001b[0m \u001b[31m?\u001b[0m eta \u001b[36m-:--:--\u001b[0m\r\u001b[2K     \u001b[91m━━━━━━━━━━━━━━━━━━━━━━━━━━━━━━━━━━━\u001b[0m\u001b[91m╸\u001b[0m\u001b[90m━━━━\u001b[0m \u001b[32m51.2/57.6 kB\u001b[0m \u001b[31m1.3 MB/s\u001b[0m eta \u001b[36m0:00:01\u001b[0m\r\u001b[2K     \u001b[90m━━━━━━━━━━━━━━━━━━━━━━━━━━━━━━━━━━━━━━━━\u001b[0m \u001b[32m57.6/57.6 kB\u001b[0m \u001b[31m1.1 MB/s\u001b[0m eta \u001b[36m0:00:00\u001b[0m\n",
            "\u001b[?25hInstalling collected packages: pytube\n",
            "Successfully installed pytube-15.0.0\n"
          ]
        }
      ]
    },
    {
      "cell_type": "code",
      "source": [
        "# Endereço do vídeo\n",
        "url = \"https://www.youtube.com/watch?v=imwmmv9r1oE\""
      ],
      "metadata": {
        "id": "11T2qqny1Je4"
      },
      "execution_count": null,
      "outputs": []
    },
    {
      "cell_type": "code",
      "source": [
        "from pytube import YouTube\n",
        "\n",
        "# Create a YouTube object and extract the audio\n",
        "yt = YouTube(url)\n",
        "audio = yt.streams.filter(only_audio=True).first()\n",
        "\n",
        "# Save the audio file\n",
        "audio.download()"
      ],
      "metadata": {
        "id": "quuAs-y-1D05",
        "colab": {
          "base_uri": "https://localhost:8080/",
          "height": 36
        },
        "outputId": "3b85e501-e6df-4f85-8d40-9c739b2fbff4"
      },
      "execution_count": null,
      "outputs": [
        {
          "output_type": "execute_result",
          "data": {
            "text/plain": [
              "'/content/Buried Alive [Clean].mp4'"
            ],
            "application/vnd.google.colaboratory.intrinsic+json": {
              "type": "string"
            }
          },
          "metadata": {},
          "execution_count": 27
        }
      ]
    },
    {
      "cell_type": "markdown",
      "source": [
        "Após realizado o download do arquivo em formato mp4, realizar a conversão para mp3, se desejar. O arquivo baixado estará na pasta padrão do colab, logo, o caminho para encontrar o arquivo será mais curto."
      ],
      "metadata": {
        "id": "AnK9jYZR59ch"
      }
    },
    {
      "cell_type": "code",
      "source": [
        "from moviepy.editor import AudioFileClip\n",
        "\n",
        "def convert_mp4_to_mp3(mp4_file_path, mp3_file_path):\n",
        "    audio = AudioFileClip('/content/Buried Alive [Clean].mp4') # Aqui, o caminho do arquivo primário\n",
        "    audio.write_audiofile('/content/Buried Alive [Clean].mp3') # Aqui, o caminho do novo arquivo, alterar o formato para mp3\n",
        "\n",
        "# Exemplo de uso\n",
        "convert_mp4_to_mp3('input.mp4', 'output.mp3')"
      ],
      "metadata": {
        "colab": {
          "base_uri": "https://localhost:8080/"
        },
        "id": "RMnwgrzR4kzX",
        "outputId": "d069b21d-0e10-47e6-9a0f-78d042fe7aab"
      },
      "execution_count": null,
      "outputs": [
        {
          "output_type": "stream",
          "name": "stdout",
          "text": [
            "MoviePy - Writing audio in /content/Buried Alive [Clean].mp3\n"
          ]
        },
        {
          "output_type": "stream",
          "name": "stderr",
          "text": [
            "                                                                     "
          ]
        },
        {
          "output_type": "stream",
          "name": "stdout",
          "text": [
            "MoviePy - Done.\n"
          ]
        },
        {
          "output_type": "stream",
          "name": "stderr",
          "text": [
            "\r"
          ]
        }
      ]
    }
  ]
}