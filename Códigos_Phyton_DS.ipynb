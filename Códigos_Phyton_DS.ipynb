{
  "nbformat": 4,
  "nbformat_minor": 0,
  "metadata": {
    "colab": {
      "name": "Códigos_Phyton_DS.ipynb",
      "provenance": [],
      "collapsed_sections": [
        "1Vlm5X2lL_Za",
        "2DQDTtTfpEzv",
        "-J1mKPrMShE6",
        "JL-wIg1QlENV",
        "wwNlj62XV4l9",
        "KkwKyyOum89h",
        "ZkdZhv_tdgLY",
        "PjE7H6OMXt1a",
        "TdOB-W3toMUK",
        "76L1v_JWZCEN",
        "txokNsEBlUjO",
        "iEWx7KJtdgLd",
        "-cupSnz1dgLd",
        "3da8kKnkbEhS"
      ],
      "authorship_tag": "ABX9TyM/3nrxIA1AuNY64SrP2otW",
      "include_colab_link": true
    },
    "kernelspec": {
      "name": "python3",
      "display_name": "Python 3"
    },
    "language_info": {
      "name": "python"
    }
  },
  "cells": [
    {
      "cell_type": "markdown",
      "metadata": {
        "id": "view-in-github",
        "colab_type": "text"
      },
      "source": [
        "<a href=\"https://colab.research.google.com/github/joaovictordds/joaovictordds/blob/main/C%C3%B3digos_Phyton_DS.ipynb\" target=\"_parent\"><img src=\"https://colab.research.google.com/assets/colab-badge.svg\" alt=\"Open In Colab\"/></a>"
      ]
    },
    {
      "cell_type": "markdown",
      "metadata": {
        "id": "sHVljH4JHQIs"
      },
      "source": [
        "Fiz um compilado de alguns códigos em *Python* que utilizamos em *Data Science*.\n",
        " * Frequentemente estou adicionando novos e atualizando os existentes e em breve, adicionarei os comandos de ML.\n",
        " * Utilizei **'base_de_dados'** para me referir ao nome da variável que representa um **banco de dados**.\n",
        "\n",
        "*Última atualização em 07-06-2021*"
      ]
    },
    {
      "cell_type": "markdown",
      "metadata": {
        "id": "1Vlm5X2lL_Za"
      },
      "source": [
        "### Bibliotecas"
      ]
    },
    {
      "cell_type": "code",
      "metadata": {
        "id": "vuPo8ODhL9Ee"
      },
      "source": [
        "import datetime\n",
        "import pandas as pd\n",
        "import numpy as np\n",
        "import seaborn as sns\n",
        "import matplotlib.pyplot as plt"
      ],
      "execution_count": null,
      "outputs": []
    },
    {
      "cell_type": "markdown",
      "metadata": {
        "id": "2DQDTtTfpEzv"
      },
      "source": [
        "### Códigos para tratamento de Dados"
      ]
    },
    {
      "cell_type": "code",
      "metadata": {
        "id": "3uWJoh_sstrW"
      },
      "source": [
        "base_de_dados.sample(3) # Mostra uma amostra aleatória de três linhas ao invés de usar head ou tale."
      ],
      "execution_count": null,
      "outputs": []
    },
    {
      "cell_type": "code",
      "metadata": {
        "id": "R5Gyceso6VTl"
      },
      "source": [
        "base_de_dados.set_option('display.max_columns', 1) # Codigo para mostrar todas as colunas do dataset. Trocar o 1 pela qtde de linhas do dataset"
      ],
      "execution_count": null,
      "outputs": []
    },
    {
      "cell_type": "code",
      "metadata": {
        "id": "JficVtz8stlu"
      },
      "source": [
        "base_de_dados.info() # Mostra informações sobre o dados faltantes e do formato dos dados das colunas."
      ],
      "execution_count": null,
      "outputs": []
    },
    {
      "cell_type": "code",
      "metadata": {
        "id": "iZzRc36nUIoK"
      },
      "source": [
        "conjunto = ['dado1', 'dado2', 'dado3', '...', 'dadox']\n",
        "colunas = ['P1','P2','P3','P4']\n",
        "nova_base = pd.DataFrame(nova_base, index=conjunto, columns=colunas) # Cria um novo conjunto de dados indexado pelo conjunto"
      ],
      "execution_count": null,
      "outputs": []
    },
    {
      "cell_type": "code",
      "metadata": {
        "id": "2KaD126tK5hw"
      },
      "source": [
        "# Especificando o 'type' da coluna pelo nome da coluna ao imputar a base (para bases de poucas colunas)\n",
        "base_de_dados = pd.read_csv('/caminho/infomracao.csv', dtypes= { 'nome_coluna':str, \n",
        "                                                             'nome_coluna':int,\n",
        "                                                             'nome_coluna':str,\n",
        "                                                             'nome_coluna':float })"
      ],
      "execution_count": null,
      "outputs": []
    },
    {
      "cell_type": "code",
      "metadata": {
        "id": "C8J-whLP3jVW"
      },
      "source": [
        "base_de_dados['coluna1'] = base_de_dados['coluna1'].astype('float64') # Convertendo coluna string em float"
      ],
      "execution_count": null,
      "outputs": []
    },
    {
      "cell_type": "code",
      "metadata": {
        "id": "TWUJ9AUIr-wF"
      },
      "source": [
        "base_de_dados[base_de_dados.duplicated()] # Pesquisando dados duplicados"
      ],
      "execution_count": null,
      "outputs": []
    },
    {
      "cell_type": "code",
      "metadata": {
        "id": "6_dRJ1U6kF6P"
      },
      "source": [
        "base_de_dados.drop_duplicates(keep='last') # apagando dados duplicados, mantendo o último"
      ],
      "execution_count": null,
      "outputs": []
    },
    {
      "cell_type": "code",
      "metadata": {
        "id": "eB6d5AbKQ_kt"
      },
      "source": [
        "base_de_dados = base_de_dados.drop(columns=['nome_coluna','nome_coluna','nome_coluna','nome_coluna']) # Exclui as colunas selecionadas"
      ],
      "execution_count": null,
      "outputs": []
    },
    {
      "cell_type": "code",
      "metadata": {
        "id": "e-lpd9RWQ_xE"
      },
      "source": [
        "base_de_dados = base_de_dados.drop(0) # Exclui a linha selecionada nesse caso, a primeira"
      ],
      "execution_count": null,
      "outputs": []
    },
    {
      "cell_type": "code",
      "metadata": {
        "id": "Dm-wc0_tcElO"
      },
      "source": [
        "base_de_dados.drop(base_de_dados.loc[base_de_dados['nome_coluna'] < 1000].index, inplace=True) # Seleciona e exclui linhas selecionadas com condições."
      ],
      "execution_count": null,
      "outputs": []
    },
    {
      "cell_type": "code",
      "metadata": {
        "id": "ZSBbXQKg8Yh2"
      },
      "source": [
        "base_de_dados['smoker'] = base_de_dados['smoker'].map({'yes': 1, 'no': 0}) # Troca variaveis binárias de string para 0 e 1."
      ],
      "execution_count": null,
      "outputs": []
    },
    {
      "cell_type": "code",
      "metadata": {
        "id": "yUS1xGAQdrrb"
      },
      "source": [
        "base_de_dados['coluna'] = base_de_dados['coluna'].str.replace('R$','') # substitui cifrão por espaço nos dados da coluna selecionada\n",
        "base_de_dados['coluna'] = base_de_dados['coluna'].str.replace(',','') # preco precisa ser com ponto\n",
        "base_de_dados['coluna'] = base_de_dados['coluna'].astype(np.float32, copy=False) #conversão p/float"
      ],
      "execution_count": null,
      "outputs": []
    },
    {
      "cell_type": "code",
      "metadata": {
        "id": "Eo_P8Y55stop"
      },
      "source": [
        "base_de_dados.shape # Mostra a qtde de linhas e colunas."
      ],
      "execution_count": null,
      "outputs": []
    },
    {
      "cell_type": "code",
      "metadata": {
        "id": "AfUV7hKhEweS"
      },
      "source": [
        "base_de_dados['novaColuna'] = variavelNova # Adiciona no conjunto uma nova coluna com os dados novos."
      ],
      "execution_count": null,
      "outputs": []
    },
    {
      "cell_type": "code",
      "metadata": {
        "id": "_LqbyueLzxSu"
      },
      "source": [
        "auxiliar() # uma função qualquer.\n",
        "base_de_dados['NovaCol'] = base_de_dados['colunaX'].apply(auxiliar) # Apply aplica uma função selecionada e coloca os dados numa nova coluna."
      ],
      "execution_count": null,
      "outputs": []
    },
    {
      "cell_type": "code",
      "metadata": {
        "id": "ewOynVbn6VQI"
      },
      "source": [
        "base_de_dados.concat(['basedados1','basedados2']) #Concatena dois conjuntos de dados"
      ],
      "execution_count": null,
      "outputs": []
    },
    {
      "cell_type": "code",
      "metadata": {
        "id": "azV68MWlKs85"
      },
      "source": [
        "base_de_dados.isnull().sum().sort_values(ascending=False) # Buscar por dados NaN (nulos)"
      ],
      "execution_count": null,
      "outputs": []
    },
    {
      "cell_type": "code",
      "metadata": {
        "id": "Zl5NZY9-Ks_u"
      },
      "source": [
        "base_de_dados[\"coluna\"].value_counts() # Conta os valores da coluna selecionada"
      ],
      "execution_count": null,
      "outputs": []
    },
    {
      "cell_type": "code",
      "metadata": {
        "id": "tb6J4uc7KtCd"
      },
      "source": [
        "# Criação de um dicionário e alteração das informações de uma coluna da base de dados\n",
        "profmap = {'conteudo existente': 'novo nome',\n",
        "           'conteudo existente': 'novo nome',\n",
        "           'conteudo existente': 'novo nome'}\n",
        "                    \n",
        "base_de_dados['colunaAlterar'] = base_de_dados['colunaAlterar'].map(profmap)"
      ],
      "execution_count": null,
      "outputs": []
    },
    {
      "cell_type": "code",
      "metadata": {
        "id": "1mDhpv09XlJY"
      },
      "source": [
        ".unstack().T # Cria duas colunas selecionadas em uma 'mini base de dados'"
      ],
      "execution_count": null,
      "outputs": []
    },
    {
      "cell_type": "code",
      "metadata": {
        "id": "evI0nv23KtFE"
      },
      "source": [
        "base_de_dados.to_csv('nome-da-base.csv', sep= ',') # Salva a base de dados tratada em csv."
      ],
      "execution_count": null,
      "outputs": []
    },
    {
      "cell_type": "markdown",
      "metadata": {
        "id": "-J1mKPrMShE6"
      },
      "source": [
        "#### Tratando dados dentro da coluna\n",
        "Quando voce quer alterar as informações nas categorias numa **coluna** e gostaria de padronizar esses dados enviezando-os. Geralmente usa-se em pequenas bases de dados com poucas categorias sem compromissos. *Atentar-se para digitar corretamente os nomes das palavras, com acentos e outros detalhes pois uma única vírgula é suficiente para dar erro.*"
      ]
    },
    {
      "cell_type": "code",
      "metadata": {
        "id": "j40MH1w-S8hD"
      },
      "source": [
        "# criando variáveis mais convenientes\n",
        "# os valores do lado esquerdo sao os que estão na coluna original e a direita sao os novos valores\n",
        "\n",
        "# empresas\n",
        "tammap = { 'de 1 a 100': 'Pequena',\n",
        "           'de 101 a 1000': 'Média',\n",
        "           'Acima de 1000': 'Grande'}\n",
        " \n",
        "# salarios\n",
        "salamap = {    'Menos de R$ 1.000/mês': 1000,\n",
        "      'de R$ 1.001/mês a R$ 2.000/mês': 1500, \n",
        "       'de R$ 2.001/mês a R$ 3000/mês': 2500,\n",
        "      'de R$ 3.001/mês a R$ 4.000/mês': 3500,\n",
        "               'Acima de R$ 5.000/mês': 5000}\n",
        "\n",
        "# discretização da idade (escolha arbitraria dos cortes)\n",
        "cortes = [0, 24, 30, 40, 100] # faixas de idade\n",
        "nomes = ['[18,24]', '[25,30]', '[31,40]', '[41,50]']\n",
        "# comando cut vai cortar o banco de dados nas faixas acima e colocar nas devidas novas colunas (nomes)\n",
        "dados['idade'] = pd.cut(dados[\"('P1', 'age')\"], bins = cortes, labels = nomes) \n",
        "\n",
        "# criando novas colunas com as informações alteradas: \n",
        "dados['salario'] = dados[\"('P16', 'salary_range')\"].map(salamap)  \n",
        "dados['tamanho_da_empresa'] = dados[\"('P12', 'workers_number')\"].map(tammap)"
      ],
      "execution_count": null,
      "outputs": []
    },
    {
      "cell_type": "markdown",
      "metadata": {
        "id": "JL-wIg1QlENV"
      },
      "source": [
        "### Tratando dados numéricos"
      ]
    },
    {
      "cell_type": "markdown",
      "metadata": {
        "id": "wwNlj62XV4l9"
      },
      "source": [
        "#### Dados nulos\n",
        "Substituição dos dados faltantes pela mediana da coluna"
      ]
    },
    {
      "cell_type": "code",
      "metadata": {
        "id": "uVijHbDslKdV"
      },
      "source": [
        "base_de_dados.isnull().sum()\n",
        "\n",
        "# substituindo campos vazios pela mediana\n",
        "base_de_dados['coluna'].describe() # código que mostra algumas informações estatísticas, entre elas a mediana\n",
        "mediana = sts.median(base_de_dados['coluna']) # crição da variável mediana, que será preenchida nos campos vazios\n",
        "base_de_dados['coluna'].fillna(mediana, inplace=True)\n",
        "base_de_dados.isnull().sum() #Verifica existencia de NAN\n",
        "\n",
        "#repetir o procedimento para todas as colunas numéricas"
      ],
      "execution_count": null,
      "outputs": []
    },
    {
      "cell_type": "markdown",
      "metadata": {
        "id": "KkwKyyOum89h"
      },
      "source": [
        "#### Outliers Numéricos\n",
        "Para tratar outliers dos dados não existe uma regra universal, porém o setup que ajusta bem no processo de ML é utilizar 2 desvios padrão:"
      ]
    },
    {
      "cell_type": "code",
      "metadata": {
        "id": "CIRNLoHWdgLX"
      },
      "source": [
        "# localizando dados outliers basicos como idade negativa etc\n",
        "base_de_dados.loc[ (base_de_dados['coluna'] < 0 'ou outro parametro') | (base_de_dados['Idade'] >= 'parametro') ]"
      ],
      "execution_count": null,
      "outputs": []
    },
    {
      "cell_type": "code",
      "metadata": {
        "id": "pbrLPAafdgLX"
      },
      "source": [
        "# substituindo os outliers pela mediana da coluna - sim, outra mediana\n",
        "mediana = sts.median(dataset['coluna'])\n",
        "base_de_dados.loc[ (base_de_dados['coluna'] < 0 'ou outro parametro') | (base_de_dados['Idade'] >= 'parametro') ] = mediana"
      ],
      "execution_count": null,
      "outputs": []
    },
    {
      "cell_type": "code",
      "metadata": {
        "jupyter": {
          "source_hidden": true
        },
        "id": "NdedTojGdgLX"
      },
      "source": [
        "# Verificar se tem algum valor fora do critério (de dois desvios):\n",
        "base_de_dados.loc[base_de_dados['coluna'] >=  2 * desv ]"
      ],
      "execution_count": null,
      "outputs": []
    },
    {
      "cell_type": "code",
      "metadata": {
        "jupyter": {
          "source_hidden": true
        },
        "id": "Lx8VlgALdgLX"
      },
      "source": [
        "# Se houver: calculando o desvio padrão dos valores de uma coluna:\n",
        "desvio = sts.stdev(dataset['coluna'])\n",
        "# Realizar a subst. de outliers pela mediana\n",
        "base_de_dados.loc[base_de_dados['coluna'] >=  2 * desvio, 'coluna'] = mediana"
      ],
      "execution_count": null,
      "outputs": []
    },
    {
      "cell_type": "code",
      "metadata": {
        "jupyter": {
          "source_hidden": true
        },
        "id": "drZ0zu7jdgLY"
      },
      "source": [
        "#visualizar \n",
        "base_de_dados.loc[(base_de_dados['Idade'] <  0 )  | ( base_de_dados['Idade'] >  120) ]"
      ],
      "execution_count": null,
      "outputs": []
    },
    {
      "cell_type": "markdown",
      "metadata": {
        "jupyter": {
          "source_hidden": true
        },
        "id": "-054Hhw3dgLY"
      },
      "source": [
        "Nota: realizar os tratamentos categóricos e numéricos em todas as colunas que for utilizar no modelo de ML."
      ]
    },
    {
      "cell_type": "markdown",
      "metadata": {
        "jupyter": {
          "source_hidden": true
        },
        "id": "ZkdZhv_tdgLY"
      },
      "source": [
        "### Tratando dados categóricos"
      ]
    },
    {
      "cell_type": "markdown",
      "metadata": {
        "id": "PjE7H6OMXt1a"
      },
      "source": [
        "#### Dados Nulos e padronização"
      ]
    },
    {
      "cell_type": "code",
      "metadata": {
        "jupyter": {
          "source_hidden": true
        },
        "id": "qWxhGHEjdgLZ"
      },
      "source": [
        "# localizando a moda da coluna\n",
        "agrupado = base_de_dados.groupby(['coluna']).size()\n",
        "agrupado\n",
        "# substituindo campos vazios pela moda\n",
        "base_de_dados['coluna'].fillna('Moda', inplace=True)\n",
        "#Verificamos se NAN não existem mais\n",
        "base_de_dados['Salario'].isnull().sum()"
      ],
      "execution_count": null,
      "outputs": []
    },
    {
      "cell_type": "markdown",
      "metadata": {
        "jupyter": {
          "source_hidden": true
        },
        "id": "2KPVBP4udgLZ"
      },
      "source": [
        "Padronizando dados"
      ]
    },
    {
      "cell_type": "code",
      "metadata": {
        "jupyter": {
          "source_hidden": true
        },
        "id": "CQprszuddgLZ"
      },
      "source": [
        "# Busca das informações da coluna selecionada\n",
        "agrupado = base_de_dados.groupby(['coluna']).size()\n",
        "agrupado\n",
        "\n",
        "# padronizando uma informação\n",
        "base_de_dados.loc[base_de_dados['Genero'] ==  'M', 'Genero'] = \"Masculino\"\n",
        "\n",
        "# padronizando varias informações\n",
        "base_de_dados.loc[base_de_dados['Genero'].isin( ['Fem','F']), 'Genero'] = \"Feminino\""
      ],
      "execution_count": null,
      "outputs": []
    },
    {
      "cell_type": "markdown",
      "metadata": {
        "id": "TdOB-W3toMUK"
      },
      "source": [
        "#### Tratando Outliers Categóricos"
      ]
    },
    {
      "cell_type": "code",
      "metadata": {
        "jupyter": {
          "source_hidden": true
        },
        "id": "eKVo_ttHoB-J"
      },
      "source": [
        "# dados categoricos necessitam ser substituidos pela moda:\n",
        "agrupado = base_de_dados.groupby(['Estado']).size() # nesse exemplo o valor é RS\n",
        "# no exemplo, nosso cliente atua apenas na região sul e portanto existem dados que precisam ser tratados\n",
        "base_de_dados.loc[base_de_dados['Estado'].isin( ['RP','SP','TD']), 'Estado'] = \"RS\""
      ],
      "execution_count": null,
      "outputs": []
    },
    {
      "cell_type": "markdown",
      "metadata": {
        "id": "76L1v_JWZCEN"
      },
      "source": [
        "#### Binning"
      ]
    },
    {
      "cell_type": "markdown",
      "metadata": {
        "jupyter": {
          "source_hidden": true
        },
        "id": "nR5JGjEzoB-K"
      },
      "source": [
        "É a junção das linhas mais raras no seu dataset. Com isso, reduz as complexidades das características. Melhorando a performance do modelo. Pode ser usado em variáveis categóricas e numéricas e pode utilizar a categoria outros para baixa cardinalidade. Quando uma das colunas tem varias classificações, por exemplo uma coluna que mostra um tipo de acomodação (apartamento, casa, condominio, service apartment, loft, guest suit, hostel, guesthouse, other, villa, townhouse, aparthote, chelet, boutique, etc) e você uni-las em uma única ('OUTROS'). Nesse caso, vamos unir os dados e mostrar as informações em forma numérica e grafica:"
      ]
    },
    {
      "cell_type": "code",
      "metadata": {
        "jupyter": {
          "source_hidden": true
        },
        "id": "LAuLXc-zoB-L"
      },
      "source": [
        "print(base_de_dados['coluna'].value_counts()) # value_counts() conta as qtes por nome\n",
        "\n",
        "plt.figure()\n",
        "grafico = sns.countplot('coluna', data=base_de_dados) # countplot é tipo value_counts dos graficos\n",
        "grafico.tick_params(axis='x', rotation=90)"
      ],
      "execution_count": null,
      "outputs": []
    },
    {
      "cell_type": "markdown",
      "metadata": {
        "jupyter": {
          "source_hidden": true
        },
        "id": "ee-yig1IoB-L"
      },
      "source": [
        "A sugestão é, agrupar valores muito pequenos deixando os dados mais compactos e indo direto nas infos que importam:"
      ]
    },
    {
      "cell_type": "code",
      "metadata": {
        "jupyter": {
          "source_hidden": true
        },
        "id": "3PJPY_D0oB-L"
      },
      "source": [
        "tabela_outros = dataset['coluna'].value_counts()  # agrupando tudo novamente so que numa variavel\n",
        "colunas_agrupar = [] # lista vazia\n",
        "\n",
        "for i in tabela_outros.index:\n",
        "    if tabela_outros[i] < x:     # x é a qtde deseja agrupar\n",
        "        colunas_agrupar.append(i)\n",
        "print(colunas_agrupar) # para ler as colunas que foram para a variavel"
      ],
      "execution_count": null,
      "outputs": []
    },
    {
      "cell_type": "markdown",
      "metadata": {
        "jupyter": {
          "source_hidden": true
        },
        "id": "mZ_xwYU-oB-M"
      },
      "source": [
        "Agora, subtituir esses nomes com poucos valores por um só, agrupando-os:"
      ]
    },
    {
      "cell_type": "code",
      "metadata": {
        "jupyter": {
          "source_hidden": true
        },
        "id": "k0Dd1VS5oB-M"
      },
      "source": [
        "for i in colunas_agrupar:\n",
        "    base_de_dados.loc[base_de_dados['coluna']== i, 'coluna']== 'OUTROS'"
      ],
      "execution_count": null,
      "outputs": []
    },
    {
      "cell_type": "markdown",
      "metadata": {
        "jupyter": {
          "source_hidden": true
        },
        "id": "WYm4PadcoB-M"
      },
      "source": [
        "Reimprimindo os dados dessa coluna para ver se ficou melhor:"
      ]
    },
    {
      "cell_type": "code",
      "metadata": {
        "jupyter": {
          "source_hidden": true
        },
        "id": "gOK9V5odoB-M"
      },
      "source": [
        "print(base_de_dados['coluna'].value_counts())\n",
        "\n",
        "plt.figure()\n",
        "grafico = sns.countplot('coluna', data=base_de_dados) # countplot é um 'value_counts' dos graficos\n",
        "grafico.tick_params(axis='x', rotation=90)"
      ],
      "execution_count": null,
      "outputs": []
    },
    {
      "cell_type": "markdown",
      "metadata": {
        "id": "txokNsEBlUjO"
      },
      "source": [
        "### Explorando Dados"
      ]
    },
    {
      "cell_type": "code",
      "metadata": {
        "id": "hQM2VP9nLfkV"
      },
      "source": [
        "base_de_dados.describe() # Mostra uma descrição estatistica das colunas numéricas que encontrar."
      ],
      "execution_count": null,
      "outputs": []
    },
    {
      "cell_type": "code",
      "metadata": {
        "id": "uHodECB3L4Ce"
      },
      "source": [
        "sns.pairplot(base_de_dados[[\"coluna1\", \"coluna2\", \"coluna3\", \"colunaX\"]], diag_kind=\"kde\"); # Vendo a correlação das variaveis selecionadas entre elas"
      ],
      "execution_count": null,
      "outputs": []
    },
    {
      "cell_type": "code",
      "metadata": {
        "id": "9rMLVdBZlOw1"
      },
      "source": [
        "# Resumo grafico boxplot\n",
        "sns.boxplot(base_de_dados['coluna']).set_title('titulo_col')"
      ],
      "execution_count": null,
      "outputs": []
    },
    {
      "cell_type": "code",
      "metadata": {
        "id": "danHjl5tlbO3"
      },
      "source": [
        "# Resumo grafico histograma\n",
        "sns.histplot(base_de_dados['coluna']).set_title('titulo_col')"
      ],
      "execution_count": null,
      "outputs": []
    },
    {
      "cell_type": "code",
      "metadata": {
        "id": "wsJNBhjplecg"
      },
      "source": [
        "#exibindo dados de forma gráfica para analisar correlações entre os dados\n",
        "sns.heatmap(base_de_dados.corr(), annot=True, cmap='Greens')\n",
        "# print(dataset.corr()) # aqui mostra a mesma correlação só que em formato tabela."
      ],
      "execution_count": null,
      "outputs": []
    },
    {
      "cell_type": "code",
      "metadata": {
        "id": "wQ1vLPrvzxV0"
      },
      "source": [
        "base_de_dados.sort_values(by='COl1', ascending=False) # Ordena o dataset pela coluna selecionada e do maior para o menor."
      ],
      "execution_count": null,
      "outputs": []
    },
    {
      "cell_type": "code",
      "metadata": {
        "id": "yTIaRC3-zxbE"
      },
      "source": [
        "base_de_dados.sort_values(by=['COl1','col4'], ascending=False) # Ordena o dataset pelas colunas selecionadas e do maior pro menor depois."
      ],
      "execution_count": null,
      "outputs": []
    },
    {
      "cell_type": "code",
      "metadata": {
        "id": "37MjQU1Kzxd4"
      },
      "source": [
        "base_de_dados[base_de_dados['Col2'] == 'X']['col5'].mean() # Filtra o dataset duas vezes e ainda chama uma função. OU\n",
        "base_de_dados['col2'].groupby(base_de_dados['col5']).mean().round(1) # .round() arredonda os dados"
      ],
      "execution_count": null,
      "outputs": []
    },
    {
      "cell_type": "code",
      "metadata": {
        "id": "4FAx-Yr9zxgG"
      },
      "source": [
        "# Plota um grafico de acordo com o agrupamento; barh plota as barras na horizontal.\n",
        "base_de_dados['col2'].groupby(base_de_dados['col5']).mean().round(1).plot(kind='barh')"
      ],
      "execution_count": null,
      "outputs": []
    },
    {
      "cell_type": "code",
      "metadata": {
        "id": "Wj3WApOdzxjc"
      },
      "source": [
        "base_de_dados['colunas'].T.plot(kind='box'); # Plota em formato boxplot"
      ],
      "execution_count": null,
      "outputs": []
    },
    {
      "cell_type": "code",
      "metadata": {
        "id": "qG03k4b06VNb"
      },
      "source": [
        "base_de_dados['col'].plot(kind='hist', edgecolor='black', bins= 10); # Plota um histograma com 10 barras"
      ],
      "execution_count": null,
      "outputs": []
    },
    {
      "cell_type": "code",
      "metadata": {
        "id": "VuOUd8neca7S"
      },
      "source": [
        "base_de_dados.filter(regex= 'P27') # Puxa da tabela todas as informações em que o Regex tiver parte ou uma palavra inteira."
      ],
      "execution_count": null,
      "outputs": []
    },
    {
      "cell_type": "code",
      "metadata": {
        "id": "7H_z0JGQvg3L"
      },
      "source": [
        "base_de_dados['col3'] # Chama as informações da coluna selecionada."
      ],
      "execution_count": null,
      "outputs": []
    },
    {
      "cell_type": "code",
      "metadata": {
        "id": "Lr2yvCFKstxH"
      },
      "source": [
        "base_de_dados[['col6','col19']] # Chama as informações das colunas selecionadas pelo nome delas."
      ],
      "execution_count": null,
      "outputs": []
    },
    {
      "cell_type": "code",
      "metadata": {
        "id": "YjbODTj0uDMK"
      },
      "source": [
        "base_de_dados[base_de_dados['colunaX'] == 'M'] # Chama apenas os dados especificos da coluna selecionada."
      ],
      "execution_count": null,
      "outputs": []
    },
    {
      "cell_type": "code",
      "metadata": {
        "id": "mnzZSefauDPS"
      },
      "source": [
        "base_de_dados[base_de_dados['co1'] > 4] # Chama as informações de acordo com o filtro."
      ],
      "execution_count": null,
      "outputs": []
    },
    {
      "cell_type": "code",
      "metadata": {
        "id": "jZ6B-qzLuDST"
      },
      "source": [
        "# Chama as info's das colunas de acordo com as condições solicitadas.\n",
        "base_de_dados[(base_de_dados['col1'] > 4) & (base_de_dados['col3'] == 'F')] #ex1\n",
        "base_de_dados.loc[base_de_dados['P3'] > 4].loc[base_de_dados['Sexo']=='F'] #ex2"
      ],
      "execution_count": null,
      "outputs": []
    },
    {
      "cell_type": "code",
      "metadata": {
        "id": "LU4qi6gt7ts6"
      },
      "source": [
        "base_de_dados.loc['linha'] # Chama os valores da LINHA selecionada"
      ],
      "execution_count": null,
      "outputs": []
    },
    {
      "cell_type": "code",
      "metadata": {
        "id": "a4wOueW5uDUX"
      },
      "source": [
        "base_de_dados.iloc[3:,2:3] # Chama as informações da quarta linha pra frente da segunda coluna. É Indexado à posição dos dados no conjunto de dados."
      ],
      "execution_count": null,
      "outputs": []
    },
    {
      "cell_type": "code",
      "metadata": {
        "id": "qCXgCpm58Vnb"
      },
      "source": [
        "base_de_dados.iloc[:,[1,7,6]] # Chama todas as linhas das colunas 1, 7 e 6 respectivamente."
      ],
      "execution_count": null,
      "outputs": []
    },
    {
      "cell_type": "code",
      "metadata": {
        "id": "Hx_Ck6SuuDY3"
      },
      "source": [
        "base_de_dados.mean() # Chama a média. axis=1 chamaria pelas médias das linhas"
      ],
      "execution_count": null,
      "outputs": []
    },
    {
      "cell_type": "code",
      "metadata": {
        "id": "jG4B1YkZstc5"
      },
      "source": [
        "base_de_dados.T # Transpõe os dados de colunas para os indices."
      ],
      "execution_count": null,
      "outputs": []
    },
    {
      "cell_type": "code",
      "metadata": {
        "id": "mVlxHKBYEBJZ"
      },
      "source": [
        "base_de_dados[\"coluna1\"].value_counts() / len(base_de_dados) # distribuição das categorias da coluna selecionada em percentual"
      ],
      "execution_count": null,
      "outputs": []
    },
    {
      "cell_type": "code",
      "metadata": {
        "id": "3aPjNgTbEMrc"
      },
      "source": [
        "base_de_dados['col1'].value_counts() # distribuição das categorias em valores absolutos"
      ],
      "execution_count": null,
      "outputs": []
    },
    {
      "cell_type": "markdown",
      "metadata": {
        "id": "iEWx7KJtdgLd"
      },
      "source": [
        "### Conversão de dias em anos"
      ]
    },
    {
      "cell_type": "code",
      "metadata": {
        "id": "CNImYZTpdgLe"
      },
      "source": [
        "#Convert DAYS to YEARS\n",
        "cust_data['EMP_YEARS'] = cust_data.DAYS_EMPLOYED/365\n",
        "cust_data['AGE'] = cust_data.DAYS_BIRTH/365\n",
        "cust_data.drop([\"DAYS_BIRTH\",\"DAYS_EMPLOYED\"],axis = 1,inplace = True)\n",
        "cust_data.head()"
      ],
      "execution_count": null,
      "outputs": []
    },
    {
      "cell_type": "markdown",
      "metadata": {
        "id": "fn49scdebUpC"
      },
      "source": [
        "carece de informação.."
      ]
    },
    {
      "cell_type": "markdown",
      "metadata": {
        "id": "-cupSnz1dgLd"
      },
      "source": [
        "### Vizualizando dados em um mapa"
      ]
    },
    {
      "cell_type": "markdown",
      "metadata": {
        "jupyter": {
          "source_hidden": true
        },
        "id": "hErApTeRdgLd"
      },
      "source": [
        "carece de informação.."
      ]
    },
    {
      "cell_type": "markdown",
      "metadata": {
        "id": "3da8kKnkbEhS"
      },
      "source": [
        "### ML"
      ]
    },
    {
      "cell_type": "markdown",
      "metadata": {
        "id": "Kc8fd7Q3bJkR"
      },
      "source": [
        "carece de informação.."
      ]
    }
  ]
}